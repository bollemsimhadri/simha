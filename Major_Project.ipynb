{
  "nbformat": 4,
  "nbformat_minor": 0,
  "metadata": {
    "colab": {
      "provenance": []
    },
    "kernelspec": {
      "name": "python3",
      "display_name": "Python 3"
    },
    "language_info": {
      "name": "python"
    }
  },
  "cells": [
    {
      "cell_type": "code",
      "execution_count": null,
      "metadata": {
        "id": "FwH0eav7w8J9"
      },
      "outputs": [],
      "source": [
        "from google.colab import drive"
      ]
    },
    {
      "cell_type": "code",
      "source": [
        "import numpy as np\n",
        "import pandas as pd\n",
        "import matplotlib.pyplot as plt\n",
        "import seaborn as sns"
      ],
      "metadata": {
        "id": "w7exy4Iix5Un"
      },
      "execution_count": 1,
      "outputs": []
    },
    {
      "cell_type": "code",
      "source": [
        "databang = pd.read_csv('/content/drive/MyDrive/Major Project/Bangalore_Restaurants.csv')\n",
        "datapune = pd.read_csv('/content/drive/MyDrive/Major Project/Pune Restaurants.csv')"
      ],
      "metadata": {
        "id": "P2Dd1JAlyKcJ"
      },
      "execution_count": 2,
      "outputs": []
    },
    {
      "cell_type": "code",
      "source": [
        "databang.columns"
      ],
      "metadata": {
        "colab": {
          "base_uri": "https://localhost:8080/"
        },
        "id": "qTg1OONxC5TD",
        "outputId": "ef17aadd-458c-4dd6-b821-7bfede00bdb7"
      },
      "execution_count": 3,
      "outputs": [
        {
          "output_type": "execute_result",
          "data": {
            "text/plain": [
              "Index(['Restaurant_Name', 'Category', 'Pricing_for_2', 'Locality',\n",
              "       'Dining_Rating', 'Dining_Review_Count', 'Delivery_Rating',\n",
              "       'Delivery_Rating_Count', 'Website', 'Address', 'Phone_No', 'Latitude',\n",
              "       'Longitude'],\n",
              "      dtype='object')"
            ]
          },
          "metadata": {},
          "execution_count": 3
        }
      ]
    },
    {
      "cell_type": "code",
      "source": [
        "datapune.columns"
      ],
      "metadata": {
        "colab": {
          "base_uri": "https://localhost:8080/"
        },
        "id": "KrunDod3C-GB",
        "outputId": "19a314f0-ecdf-4711-ea5b-79393d09d3aa"
      },
      "execution_count": 4,
      "outputs": [
        {
          "output_type": "execute_result",
          "data": {
            "text/plain": [
              "Index(['Restaurant_Name', 'Category', 'Pricing_for_2', 'Locality',\n",
              "       'Dining_Rating', 'Dining_Review_Count', 'Delivery_Rating',\n",
              "       'Delivery_Rating_Count', 'Website', 'Address', 'Phone_No', 'Latitude',\n",
              "       'Longitude', 'Known_for1', 'Known_for2'],\n",
              "      dtype='object')"
            ]
          },
          "metadata": {},
          "execution_count": 4
        }
      ]
    },
    {
      "cell_type": "code",
      "source": [
        "databang.head()"
      ],
      "metadata": {
        "colab": {
          "base_uri": "https://localhost:8080/",
          "height": 582
        },
        "id": "SmWSXn31Cyg8",
        "outputId": "13a18d5f-161f-412c-f816-3ce579438f28"
      },
      "execution_count": 5,
      "outputs": [
        {
          "output_type": "execute_result",
          "data": {
            "text/plain": [
              "        Restaurant_Name                                           Category  \\\n",
              "0           Burma Burma  Asian, Burmese, Bubble Tea, Salad, Tea, Desser...   \n",
              "1  Windmills Craftworks  Continental, Fast Food, Kebab, Beverages, Ital...   \n",
              "2        CTR Shri Sagar                                       South Indian   \n",
              "3  Brahmin's Coffee Bar                                       South Indian   \n",
              "4      Milano Ice Cream                     Desserts, Ice Cream, Beverages   \n",
              "\n",
              "   Pricing_for_2                          Locality  Dining_Rating  \\\n",
              "0           1500            Indiranagar, Bangalore            4.9   \n",
              "1           2500   Windmills Craftworks, Bangalore            4.9   \n",
              "2            150           Malleshwaram, Bangalore            4.9   \n",
              "3            100           Basavanagudi, Bangalore            4.9   \n",
              "4            400            Indiranagar, Bangalore            4.9   \n",
              "\n",
              "   Dining_Review_Count  Delivery_Rating  Delivery_Rating_Count  \\\n",
              "0               2790.0              4.5                  838.0   \n",
              "1               6543.0              4.2                  524.0   \n",
              "2               4837.0              4.3                22100.0   \n",
              "3               2975.0              4.4                  372.0   \n",
              "4               2575.0              4.4                 1180.0   \n",
              "\n",
              "                                             Website  \\\n",
              "0  https://www.zomato.com/bangalore/burma-burma-i...   \n",
              "1  https://www.zomato.com/bangalore/windmills-cra...   \n",
              "2  https://www.zomato.com/bangalore/ctr-shri-saga...   \n",
              "3  https://www.zomato.com/bangalore/brahmins-coff...   \n",
              "4  https://www.zomato.com/bangalore/milano-ice-cr...   \n",
              "\n",
              "                                             Address     Phone_No   Latitude  \\\n",
              "0  607, Ground Floor, 12th Main, Hal 2nd Stage, I...  9.18043E+11  12.970394   \n",
              "1  78, Immaine Epip Industrial Area, Whitefield B...   9.1888E+11  12.982413   \n",
              "2   7th Cross, Margosa Road, Malleshwaram, Bangalore  9.18023E+11  12.998270   \n",
              "3       Ranga Rao Road, Near Basavanagudi, Bangalore  9.19845E+11  12.954043   \n",
              "4  460, 2nd Cross, Krishna Temple Road, Indiranag...  9.18041E+11  12.979121   \n",
              "\n",
              "   Longitude  \n",
              "0  77.644713  \n",
              "1  77.721979  \n",
              "2  77.569455  \n",
              "3  77.568865  \n",
              "4  77.644039  "
            ],
            "text/html": [
              "\n",
              "  <div id=\"df-067a2dc3-4021-49d4-8fed-7a87da502774\">\n",
              "    <div class=\"colab-df-container\">\n",
              "      <div>\n",
              "<style scoped>\n",
              "    .dataframe tbody tr th:only-of-type {\n",
              "        vertical-align: middle;\n",
              "    }\n",
              "\n",
              "    .dataframe tbody tr th {\n",
              "        vertical-align: top;\n",
              "    }\n",
              "\n",
              "    .dataframe thead th {\n",
              "        text-align: right;\n",
              "    }\n",
              "</style>\n",
              "<table border=\"1\" class=\"dataframe\">\n",
              "  <thead>\n",
              "    <tr style=\"text-align: right;\">\n",
              "      <th></th>\n",
              "      <th>Restaurant_Name</th>\n",
              "      <th>Category</th>\n",
              "      <th>Pricing_for_2</th>\n",
              "      <th>Locality</th>\n",
              "      <th>Dining_Rating</th>\n",
              "      <th>Dining_Review_Count</th>\n",
              "      <th>Delivery_Rating</th>\n",
              "      <th>Delivery_Rating_Count</th>\n",
              "      <th>Website</th>\n",
              "      <th>Address</th>\n",
              "      <th>Phone_No</th>\n",
              "      <th>Latitude</th>\n",
              "      <th>Longitude</th>\n",
              "    </tr>\n",
              "  </thead>\n",
              "  <tbody>\n",
              "    <tr>\n",
              "      <th>0</th>\n",
              "      <td>Burma Burma</td>\n",
              "      <td>Asian, Burmese, Bubble Tea, Salad, Tea, Desser...</td>\n",
              "      <td>1500</td>\n",
              "      <td>Indiranagar, Bangalore</td>\n",
              "      <td>4.9</td>\n",
              "      <td>2790.0</td>\n",
              "      <td>4.5</td>\n",
              "      <td>838.0</td>\n",
              "      <td>https://www.zomato.com/bangalore/burma-burma-i...</td>\n",
              "      <td>607, Ground Floor, 12th Main, Hal 2nd Stage, I...</td>\n",
              "      <td>9.18043E+11</td>\n",
              "      <td>12.970394</td>\n",
              "      <td>77.644713</td>\n",
              "    </tr>\n",
              "    <tr>\n",
              "      <th>1</th>\n",
              "      <td>Windmills Craftworks</td>\n",
              "      <td>Continental, Fast Food, Kebab, Beverages, Ital...</td>\n",
              "      <td>2500</td>\n",
              "      <td>Windmills Craftworks, Bangalore</td>\n",
              "      <td>4.9</td>\n",
              "      <td>6543.0</td>\n",
              "      <td>4.2</td>\n",
              "      <td>524.0</td>\n",
              "      <td>https://www.zomato.com/bangalore/windmills-cra...</td>\n",
              "      <td>78, Immaine Epip Industrial Area, Whitefield B...</td>\n",
              "      <td>9.1888E+11</td>\n",
              "      <td>12.982413</td>\n",
              "      <td>77.721979</td>\n",
              "    </tr>\n",
              "    <tr>\n",
              "      <th>2</th>\n",
              "      <td>CTR Shri Sagar</td>\n",
              "      <td>South Indian</td>\n",
              "      <td>150</td>\n",
              "      <td>Malleshwaram, Bangalore</td>\n",
              "      <td>4.9</td>\n",
              "      <td>4837.0</td>\n",
              "      <td>4.3</td>\n",
              "      <td>22100.0</td>\n",
              "      <td>https://www.zomato.com/bangalore/ctr-shri-saga...</td>\n",
              "      <td>7th Cross, Margosa Road, Malleshwaram, Bangalore</td>\n",
              "      <td>9.18023E+11</td>\n",
              "      <td>12.998270</td>\n",
              "      <td>77.569455</td>\n",
              "    </tr>\n",
              "    <tr>\n",
              "      <th>3</th>\n",
              "      <td>Brahmin's Coffee Bar</td>\n",
              "      <td>South Indian</td>\n",
              "      <td>100</td>\n",
              "      <td>Basavanagudi, Bangalore</td>\n",
              "      <td>4.9</td>\n",
              "      <td>2975.0</td>\n",
              "      <td>4.4</td>\n",
              "      <td>372.0</td>\n",
              "      <td>https://www.zomato.com/bangalore/brahmins-coff...</td>\n",
              "      <td>Ranga Rao Road, Near Basavanagudi, Bangalore</td>\n",
              "      <td>9.19845E+11</td>\n",
              "      <td>12.954043</td>\n",
              "      <td>77.568865</td>\n",
              "    </tr>\n",
              "    <tr>\n",
              "      <th>4</th>\n",
              "      <td>Milano Ice Cream</td>\n",
              "      <td>Desserts, Ice Cream, Beverages</td>\n",
              "      <td>400</td>\n",
              "      <td>Indiranagar, Bangalore</td>\n",
              "      <td>4.9</td>\n",
              "      <td>2575.0</td>\n",
              "      <td>4.4</td>\n",
              "      <td>1180.0</td>\n",
              "      <td>https://www.zomato.com/bangalore/milano-ice-cr...</td>\n",
              "      <td>460, 2nd Cross, Krishna Temple Road, Indiranag...</td>\n",
              "      <td>9.18041E+11</td>\n",
              "      <td>12.979121</td>\n",
              "      <td>77.644039</td>\n",
              "    </tr>\n",
              "  </tbody>\n",
              "</table>\n",
              "</div>\n",
              "      <button class=\"colab-df-convert\" onclick=\"convertToInteractive('df-067a2dc3-4021-49d4-8fed-7a87da502774')\"\n",
              "              title=\"Convert this dataframe to an interactive table.\"\n",
              "              style=\"display:none;\">\n",
              "        \n",
              "  <svg xmlns=\"http://www.w3.org/2000/svg\" height=\"24px\"viewBox=\"0 0 24 24\"\n",
              "       width=\"24px\">\n",
              "    <path d=\"M0 0h24v24H0V0z\" fill=\"none\"/>\n",
              "    <path d=\"M18.56 5.44l.94 2.06.94-2.06 2.06-.94-2.06-.94-.94-2.06-.94 2.06-2.06.94zm-11 1L8.5 8.5l.94-2.06 2.06-.94-2.06-.94L8.5 2.5l-.94 2.06-2.06.94zm10 10l.94 2.06.94-2.06 2.06-.94-2.06-.94-.94-2.06-.94 2.06-2.06.94z\"/><path d=\"M17.41 7.96l-1.37-1.37c-.4-.4-.92-.59-1.43-.59-.52 0-1.04.2-1.43.59L10.3 9.45l-7.72 7.72c-.78.78-.78 2.05 0 2.83L4 21.41c.39.39.9.59 1.41.59.51 0 1.02-.2 1.41-.59l7.78-7.78 2.81-2.81c.8-.78.8-2.07 0-2.86zM5.41 20L4 18.59l7.72-7.72 1.47 1.35L5.41 20z\"/>\n",
              "  </svg>\n",
              "      </button>\n",
              "      \n",
              "  <style>\n",
              "    .colab-df-container {\n",
              "      display:flex;\n",
              "      flex-wrap:wrap;\n",
              "      gap: 12px;\n",
              "    }\n",
              "\n",
              "    .colab-df-convert {\n",
              "      background-color: #E8F0FE;\n",
              "      border: none;\n",
              "      border-radius: 50%;\n",
              "      cursor: pointer;\n",
              "      display: none;\n",
              "      fill: #1967D2;\n",
              "      height: 32px;\n",
              "      padding: 0 0 0 0;\n",
              "      width: 32px;\n",
              "    }\n",
              "\n",
              "    .colab-df-convert:hover {\n",
              "      background-color: #E2EBFA;\n",
              "      box-shadow: 0px 1px 2px rgba(60, 64, 67, 0.3), 0px 1px 3px 1px rgba(60, 64, 67, 0.15);\n",
              "      fill: #174EA6;\n",
              "    }\n",
              "\n",
              "    [theme=dark] .colab-df-convert {\n",
              "      background-color: #3B4455;\n",
              "      fill: #D2E3FC;\n",
              "    }\n",
              "\n",
              "    [theme=dark] .colab-df-convert:hover {\n",
              "      background-color: #434B5C;\n",
              "      box-shadow: 0px 1px 3px 1px rgba(0, 0, 0, 0.15);\n",
              "      filter: drop-shadow(0px 1px 2px rgba(0, 0, 0, 0.3));\n",
              "      fill: #FFFFFF;\n",
              "    }\n",
              "  </style>\n",
              "\n",
              "      <script>\n",
              "        const buttonEl =\n",
              "          document.querySelector('#df-067a2dc3-4021-49d4-8fed-7a87da502774 button.colab-df-convert');\n",
              "        buttonEl.style.display =\n",
              "          google.colab.kernel.accessAllowed ? 'block' : 'none';\n",
              "\n",
              "        async function convertToInteractive(key) {\n",
              "          const element = document.querySelector('#df-067a2dc3-4021-49d4-8fed-7a87da502774');\n",
              "          const dataTable =\n",
              "            await google.colab.kernel.invokeFunction('convertToInteractive',\n",
              "                                                     [key], {});\n",
              "          if (!dataTable) return;\n",
              "\n",
              "          const docLinkHtml = 'Like what you see? Visit the ' +\n",
              "            '<a target=\"_blank\" href=https://colab.research.google.com/notebooks/data_table.ipynb>data table notebook</a>'\n",
              "            + ' to learn more about interactive tables.';\n",
              "          element.innerHTML = '';\n",
              "          dataTable['output_type'] = 'display_data';\n",
              "          await google.colab.output.renderOutput(dataTable, element);\n",
              "          const docLink = document.createElement('div');\n",
              "          docLink.innerHTML = docLinkHtml;\n",
              "          element.appendChild(docLink);\n",
              "        }\n",
              "      </script>\n",
              "    </div>\n",
              "  </div>\n",
              "  "
            ]
          },
          "metadata": {},
          "execution_count": 5
        }
      ]
    },
    {
      "cell_type": "code",
      "source": [
        "datapune.head()"
      ],
      "metadata": {
        "colab": {
          "base_uri": "https://localhost:8080/",
          "height": 756
        },
        "id": "lO8nZ_jhDK3Y",
        "outputId": "ff19b71a-b133-471c-894f-e7db52a20ff8"
      },
      "execution_count": 6,
      "outputs": [
        {
          "output_type": "execute_result",
          "data": {
            "text/plain": [
              "                Restaurant_Name  \\\n",
              "0             Santè Spa Cuisine   \n",
              "1                    Le Plaisir   \n",
              "2                          Gong   \n",
              "3  The French Window Patisserie   \n",
              "4                    Savya Rasa   \n",
              "\n",
              "                                            Category  Pricing_for_2  \\\n",
              "0           Continental, Healthy Food, Mediterranean           1200   \n",
              "1  Cafe, Italian, Continental, Salad, Sandwich, P...           1000   \n",
              "2            Chinese, Sushi, Asian, Momos, Beverages           1700   \n",
              "3           Cafe, Desserts, French, Bakery, European            600   \n",
              "4  South Indian, Mangalorean, Kerala, Chettinad, ...           2100   \n",
              "\n",
              "                             Locality  Dining_Rating  Dining_Review_Count  \\\n",
              "0                 Koregaon Park, Pune            4.9                 1469   \n",
              "1               Deccan Gymkhana, Pune            4.9                 4808   \n",
              "2   Balewadi High Street, Baner, Pune            4.9                 1788   \n",
              "3                 Koregaon Park, Pune            4.9                 1643   \n",
              "4                 Koregaon Park, Pune            4.9                 1283   \n",
              "\n",
              "   Delivery_Rating  Delivery_Rating_Count  \\\n",
              "0              3.9                    588   \n",
              "1              4.3                   4959   \n",
              "2              4.3                   1352   \n",
              "3              4.4                   1208   \n",
              "4              4.3                    446   \n",
              "\n",
              "                                             Website  \\\n",
              "0  https://www.zomato.com/pune/santè-spa-cuisine-...   \n",
              "1  https://www.zomato.com/pune/le-plaisir-deccan-...   \n",
              "2             https://www.zomato.com/pune/gong-baner   \n",
              "3  https://www.zomato.com/pune/the-french-window-...   \n",
              "4  https://www.zomato.com/pune/savya-rasa-koregao...   \n",
              "\n",
              "                                             Address  Phone_No   Latitude  \\\n",
              "0  Lane 1, Near Sunderban Resorts, Koregaon Park,...  9.18E+11  18.537416   \n",
              "1  Survey 759/125, Rajkamal, Prabhat Road, Opposi...  9.19E+11  18.514254   \n",
              "2  Shop 22/23, Cummins India Office Campus, Balew...  9.19E+11  18.570471   \n",
              "3  Lane Number 5, Ganga Fortune Society, Meera Na...  9.20E+11  18.537432   \n",
              "4  Flat 2, Survey 479 & 480, Gera Serenity, North...  9.19E+11  18.538862   \n",
              "\n",
              "   Longitude                                         Known_for1  \\\n",
              "0  73.888890  Bajra Risotto, Spinach Hummus, Whole Wheat Spa...   \n",
              "1  73.838658  Expresso Panacota, Banana Nutella Crepe, New Y...   \n",
              "2  73.774149  Chicken Minestrone Soup, Crab Ravioli, Ebi Tem...   \n",
              "3  73.897714  Trois Chocolat, Chocolate Flan, Mille Feuille,...   \n",
              "4  73.886621  Bun Paratha, Pallipalayam Kozhi, Palm Sugar, V...   \n",
              "\n",
              "                                          Known_for2  \n",
              "0  Nothing to Dislike, Healthy Menu, Healthy Food...  \n",
              "1  Classy Place, Classy Ambience, Perfect Evening...  \n",
              "2  Classy Place, Quality of Food, Amazing Interio...  \n",
              "3  Bookshelf, Beautiful Cafe, Pretty Ambience, Pe...  \n",
              "4  Sophisticated, Worth the Price, Warm Ambience,...  "
            ],
            "text/html": [
              "\n",
              "  <div id=\"df-23f9a337-fb0c-4428-954c-66fa1e9eecfe\">\n",
              "    <div class=\"colab-df-container\">\n",
              "      <div>\n",
              "<style scoped>\n",
              "    .dataframe tbody tr th:only-of-type {\n",
              "        vertical-align: middle;\n",
              "    }\n",
              "\n",
              "    .dataframe tbody tr th {\n",
              "        vertical-align: top;\n",
              "    }\n",
              "\n",
              "    .dataframe thead th {\n",
              "        text-align: right;\n",
              "    }\n",
              "</style>\n",
              "<table border=\"1\" class=\"dataframe\">\n",
              "  <thead>\n",
              "    <tr style=\"text-align: right;\">\n",
              "      <th></th>\n",
              "      <th>Restaurant_Name</th>\n",
              "      <th>Category</th>\n",
              "      <th>Pricing_for_2</th>\n",
              "      <th>Locality</th>\n",
              "      <th>Dining_Rating</th>\n",
              "      <th>Dining_Review_Count</th>\n",
              "      <th>Delivery_Rating</th>\n",
              "      <th>Delivery_Rating_Count</th>\n",
              "      <th>Website</th>\n",
              "      <th>Address</th>\n",
              "      <th>Phone_No</th>\n",
              "      <th>Latitude</th>\n",
              "      <th>Longitude</th>\n",
              "      <th>Known_for1</th>\n",
              "      <th>Known_for2</th>\n",
              "    </tr>\n",
              "  </thead>\n",
              "  <tbody>\n",
              "    <tr>\n",
              "      <th>0</th>\n",
              "      <td>Santè Spa Cuisine</td>\n",
              "      <td>Continental, Healthy Food, Mediterranean</td>\n",
              "      <td>1200</td>\n",
              "      <td>Koregaon Park, Pune</td>\n",
              "      <td>4.9</td>\n",
              "      <td>1469</td>\n",
              "      <td>3.9</td>\n",
              "      <td>588</td>\n",
              "      <td>https://www.zomato.com/pune/santè-spa-cuisine-...</td>\n",
              "      <td>Lane 1, Near Sunderban Resorts, Koregaon Park,...</td>\n",
              "      <td>9.18E+11</td>\n",
              "      <td>18.537416</td>\n",
              "      <td>73.888890</td>\n",
              "      <td>Bajra Risotto, Spinach Hummus, Whole Wheat Spa...</td>\n",
              "      <td>Nothing to Dislike, Healthy Menu, Healthy Food...</td>\n",
              "    </tr>\n",
              "    <tr>\n",
              "      <th>1</th>\n",
              "      <td>Le Plaisir</td>\n",
              "      <td>Cafe, Italian, Continental, Salad, Sandwich, P...</td>\n",
              "      <td>1000</td>\n",
              "      <td>Deccan Gymkhana, Pune</td>\n",
              "      <td>4.9</td>\n",
              "      <td>4808</td>\n",
              "      <td>4.3</td>\n",
              "      <td>4959</td>\n",
              "      <td>https://www.zomato.com/pune/le-plaisir-deccan-...</td>\n",
              "      <td>Survey 759/125, Rajkamal, Prabhat Road, Opposi...</td>\n",
              "      <td>9.19E+11</td>\n",
              "      <td>18.514254</td>\n",
              "      <td>73.838658</td>\n",
              "      <td>Expresso Panacota, Banana Nutella Crepe, New Y...</td>\n",
              "      <td>Classy Place, Classy Ambience, Perfect Evening...</td>\n",
              "    </tr>\n",
              "    <tr>\n",
              "      <th>2</th>\n",
              "      <td>Gong</td>\n",
              "      <td>Chinese, Sushi, Asian, Momos, Beverages</td>\n",
              "      <td>1700</td>\n",
              "      <td>Balewadi High Street, Baner, Pune</td>\n",
              "      <td>4.9</td>\n",
              "      <td>1788</td>\n",
              "      <td>4.3</td>\n",
              "      <td>1352</td>\n",
              "      <td>https://www.zomato.com/pune/gong-baner</td>\n",
              "      <td>Shop 22/23, Cummins India Office Campus, Balew...</td>\n",
              "      <td>9.19E+11</td>\n",
              "      <td>18.570471</td>\n",
              "      <td>73.774149</td>\n",
              "      <td>Chicken Minestrone Soup, Crab Ravioli, Ebi Tem...</td>\n",
              "      <td>Classy Place, Quality of Food, Amazing Interio...</td>\n",
              "    </tr>\n",
              "    <tr>\n",
              "      <th>3</th>\n",
              "      <td>The French Window Patisserie</td>\n",
              "      <td>Cafe, Desserts, French, Bakery, European</td>\n",
              "      <td>600</td>\n",
              "      <td>Koregaon Park, Pune</td>\n",
              "      <td>4.9</td>\n",
              "      <td>1643</td>\n",
              "      <td>4.4</td>\n",
              "      <td>1208</td>\n",
              "      <td>https://www.zomato.com/pune/the-french-window-...</td>\n",
              "      <td>Lane Number 5, Ganga Fortune Society, Meera Na...</td>\n",
              "      <td>9.20E+11</td>\n",
              "      <td>18.537432</td>\n",
              "      <td>73.897714</td>\n",
              "      <td>Trois Chocolat, Chocolate Flan, Mille Feuille,...</td>\n",
              "      <td>Bookshelf, Beautiful Cafe, Pretty Ambience, Pe...</td>\n",
              "    </tr>\n",
              "    <tr>\n",
              "      <th>4</th>\n",
              "      <td>Savya Rasa</td>\n",
              "      <td>South Indian, Mangalorean, Kerala, Chettinad, ...</td>\n",
              "      <td>2100</td>\n",
              "      <td>Koregaon Park, Pune</td>\n",
              "      <td>4.9</td>\n",
              "      <td>1283</td>\n",
              "      <td>4.3</td>\n",
              "      <td>446</td>\n",
              "      <td>https://www.zomato.com/pune/savya-rasa-koregao...</td>\n",
              "      <td>Flat 2, Survey 479 &amp; 480, Gera Serenity, North...</td>\n",
              "      <td>9.19E+11</td>\n",
              "      <td>18.538862</td>\n",
              "      <td>73.886621</td>\n",
              "      <td>Bun Paratha, Pallipalayam Kozhi, Palm Sugar, V...</td>\n",
              "      <td>Sophisticated, Worth the Price, Warm Ambience,...</td>\n",
              "    </tr>\n",
              "  </tbody>\n",
              "</table>\n",
              "</div>\n",
              "      <button class=\"colab-df-convert\" onclick=\"convertToInteractive('df-23f9a337-fb0c-4428-954c-66fa1e9eecfe')\"\n",
              "              title=\"Convert this dataframe to an interactive table.\"\n",
              "              style=\"display:none;\">\n",
              "        \n",
              "  <svg xmlns=\"http://www.w3.org/2000/svg\" height=\"24px\"viewBox=\"0 0 24 24\"\n",
              "       width=\"24px\">\n",
              "    <path d=\"M0 0h24v24H0V0z\" fill=\"none\"/>\n",
              "    <path d=\"M18.56 5.44l.94 2.06.94-2.06 2.06-.94-2.06-.94-.94-2.06-.94 2.06-2.06.94zm-11 1L8.5 8.5l.94-2.06 2.06-.94-2.06-.94L8.5 2.5l-.94 2.06-2.06.94zm10 10l.94 2.06.94-2.06 2.06-.94-2.06-.94-.94-2.06-.94 2.06-2.06.94z\"/><path d=\"M17.41 7.96l-1.37-1.37c-.4-.4-.92-.59-1.43-.59-.52 0-1.04.2-1.43.59L10.3 9.45l-7.72 7.72c-.78.78-.78 2.05 0 2.83L4 21.41c.39.39.9.59 1.41.59.51 0 1.02-.2 1.41-.59l7.78-7.78 2.81-2.81c.8-.78.8-2.07 0-2.86zM5.41 20L4 18.59l7.72-7.72 1.47 1.35L5.41 20z\"/>\n",
              "  </svg>\n",
              "      </button>\n",
              "      \n",
              "  <style>\n",
              "    .colab-df-container {\n",
              "      display:flex;\n",
              "      flex-wrap:wrap;\n",
              "      gap: 12px;\n",
              "    }\n",
              "\n",
              "    .colab-df-convert {\n",
              "      background-color: #E8F0FE;\n",
              "      border: none;\n",
              "      border-radius: 50%;\n",
              "      cursor: pointer;\n",
              "      display: none;\n",
              "      fill: #1967D2;\n",
              "      height: 32px;\n",
              "      padding: 0 0 0 0;\n",
              "      width: 32px;\n",
              "    }\n",
              "\n",
              "    .colab-df-convert:hover {\n",
              "      background-color: #E2EBFA;\n",
              "      box-shadow: 0px 1px 2px rgba(60, 64, 67, 0.3), 0px 1px 3px 1px rgba(60, 64, 67, 0.15);\n",
              "      fill: #174EA6;\n",
              "    }\n",
              "\n",
              "    [theme=dark] .colab-df-convert {\n",
              "      background-color: #3B4455;\n",
              "      fill: #D2E3FC;\n",
              "    }\n",
              "\n",
              "    [theme=dark] .colab-df-convert:hover {\n",
              "      background-color: #434B5C;\n",
              "      box-shadow: 0px 1px 3px 1px rgba(0, 0, 0, 0.15);\n",
              "      filter: drop-shadow(0px 1px 2px rgba(0, 0, 0, 0.3));\n",
              "      fill: #FFFFFF;\n",
              "    }\n",
              "  </style>\n",
              "\n",
              "      <script>\n",
              "        const buttonEl =\n",
              "          document.querySelector('#df-23f9a337-fb0c-4428-954c-66fa1e9eecfe button.colab-df-convert');\n",
              "        buttonEl.style.display =\n",
              "          google.colab.kernel.accessAllowed ? 'block' : 'none';\n",
              "\n",
              "        async function convertToInteractive(key) {\n",
              "          const element = document.querySelector('#df-23f9a337-fb0c-4428-954c-66fa1e9eecfe');\n",
              "          const dataTable =\n",
              "            await google.colab.kernel.invokeFunction('convertToInteractive',\n",
              "                                                     [key], {});\n",
              "          if (!dataTable) return;\n",
              "\n",
              "          const docLinkHtml = 'Like what you see? Visit the ' +\n",
              "            '<a target=\"_blank\" href=https://colab.research.google.com/notebooks/data_table.ipynb>data table notebook</a>'\n",
              "            + ' to learn more about interactive tables.';\n",
              "          element.innerHTML = '';\n",
              "          dataTable['output_type'] = 'display_data';\n",
              "          await google.colab.output.renderOutput(dataTable, element);\n",
              "          const docLink = document.createElement('div');\n",
              "          docLink.innerHTML = docLinkHtml;\n",
              "          element.appendChild(docLink);\n",
              "        }\n",
              "      </script>\n",
              "    </div>\n",
              "  </div>\n",
              "  "
            ]
          },
          "metadata": {},
          "execution_count": 6
        }
      ]
    },
    {
      "cell_type": "code",
      "source": [
        "display(databang.shape,datapune.shape)"
      ],
      "metadata": {
        "colab": {
          "base_uri": "https://localhost:8080/",
          "height": 52
        },
        "id": "mCIoL2I-D_n1",
        "outputId": "b8ea4663-ade8-4cce-8686-fac52c893623"
      },
      "execution_count": 7,
      "outputs": [
        {
          "output_type": "display_data",
          "data": {
            "text/plain": [
              "(5109, 13)"
            ]
          },
          "metadata": {}
        },
        {
          "output_type": "display_data",
          "data": {
            "text/plain": [
              "(4797, 15)"
            ]
          },
          "metadata": {}
        }
      ]
    },
    {
      "cell_type": "code",
      "source": [
        "datapune = datapune.drop(['Known_for1','Known_for2'],axis = True)"
      ],
      "metadata": {
        "id": "iDkxbjfKIc8k"
      },
      "execution_count": 8,
      "outputs": []
    },
    {
      "cell_type": "code",
      "source": [
        "datapune.columns"
      ],
      "metadata": {
        "colab": {
          "base_uri": "https://localhost:8080/"
        },
        "id": "ylC02deDJUBD",
        "outputId": "264bf5d4-e438-4e22-bee7-cf536e586a36"
      },
      "execution_count": 9,
      "outputs": [
        {
          "output_type": "execute_result",
          "data": {
            "text/plain": [
              "Index(['Restaurant_Name', 'Category', 'Pricing_for_2', 'Locality',\n",
              "       'Dining_Rating', 'Dining_Review_Count', 'Delivery_Rating',\n",
              "       'Delivery_Rating_Count', 'Website', 'Address', 'Phone_No', 'Latitude',\n",
              "       'Longitude'],\n",
              "      dtype='object')"
            ]
          },
          "metadata": {},
          "execution_count": 9
        }
      ]
    },
    {
      "cell_type": "code",
      "source": [
        "# merging the two data sets to make a ml model using as single dataset\n",
        "new_data = pd.concat([databang,datapune])\n",
        "new_data.shape"
      ],
      "metadata": {
        "colab": {
          "base_uri": "https://localhost:8080/"
        },
        "id": "WiA7jfT4JbrE",
        "outputId": "521d479f-27ec-4b0f-c2d0-07334b175cd3"
      },
      "execution_count": 10,
      "outputs": [
        {
          "output_type": "execute_result",
          "data": {
            "text/plain": [
              "(9906, 13)"
            ]
          },
          "metadata": {},
          "execution_count": 10
        }
      ]
    },
    {
      "cell_type": "code",
      "source": [
        "new_data"
      ],
      "metadata": {
        "colab": {
          "base_uri": "https://localhost:8080/",
          "height": 1000
        },
        "id": "CBTxf7bHKBH1",
        "outputId": "bdec62f3-96fa-4058-896f-b2c37b635429"
      },
      "execution_count": 11,
      "outputs": [
        {
          "output_type": "execute_result",
          "data": {
            "text/plain": [
              "                Restaurant_Name  \\\n",
              "0                   Burma Burma   \n",
              "1          Windmills Craftworks   \n",
              "2                CTR Shri Sagar   \n",
              "3          Brahmin's Coffee Bar   \n",
              "4              Milano Ice Cream   \n",
              "...                         ...   \n",
              "4792           Atharva Pure Veg   \n",
              "4793                  Wow! Momo   \n",
              "4794  Fried Chicken Destination   \n",
              "4795           Hotel Shree Yash   \n",
              "4796             Vegeta Express   \n",
              "\n",
              "                                               Category  Pricing_for_2  \\\n",
              "0     Asian, Burmese, Bubble Tea, Salad, Tea, Desser...           1500   \n",
              "1     Continental, Fast Food, Kebab, Beverages, Ital...           2500   \n",
              "2                                          South Indian            150   \n",
              "3                                          South Indian            100   \n",
              "4                        Desserts, Ice Cream, Beverages            400   \n",
              "...                                                 ...            ...   \n",
              "4792  North Indian, South Indian, Chinese, Fast Food...            600   \n",
              "4793                          Momos, Tibetan, Fast Food            400   \n",
              "4794                                          Fast Food            400   \n",
              "4795  North Indian, Biryani, Mughlai, Maharashtrian,...           1000   \n",
              "4796  North Indian, Continental, Chinese, Desserts, ...            850   \n",
              "\n",
              "                              Locality  Dining_Rating  Dining_Review_Count  \\\n",
              "0               Indiranagar, Bangalore            4.9               2790.0   \n",
              "1      Windmills Craftworks, Bangalore            4.9               6543.0   \n",
              "2              Malleshwaram, Bangalore            4.9               4837.0   \n",
              "3              Basavanagudi, Bangalore            4.9               2975.0   \n",
              "4               Indiranagar, Bangalore            4.9               2575.0   \n",
              "...                                ...            ...                  ...   \n",
              "4792                     Bhosari, Pune            3.0                 45.0   \n",
              "4793                     Kothrud, Pune            3.0                 63.0   \n",
              "4794                     Kothrud, Pune            3.0                  7.0   \n",
              "4795                     Bhosari, Pune            3.0                 20.0   \n",
              "4796                    Wanowrie, Pune            3.0                130.0   \n",
              "\n",
              "      Delivery_Rating  Delivery_Rating_Count  \\\n",
              "0                 4.5                  838.0   \n",
              "1                 4.2                  524.0   \n",
              "2                 4.3                22100.0   \n",
              "3                 4.4                  372.0   \n",
              "4                 4.4                 1180.0   \n",
              "...               ...                    ...   \n",
              "4792              NaN                    0.0   \n",
              "4793              4.1                 1212.0   \n",
              "4794              3.9                  359.0   \n",
              "4795              4.1                  491.0   \n",
              "4796              NaN                    8.0   \n",
              "\n",
              "                                                Website  \\\n",
              "0     https://www.zomato.com/bangalore/burma-burma-i...   \n",
              "1     https://www.zomato.com/bangalore/windmills-cra...   \n",
              "2     https://www.zomato.com/bangalore/ctr-shri-saga...   \n",
              "3     https://www.zomato.com/bangalore/brahmins-coff...   \n",
              "4     https://www.zomato.com/bangalore/milano-ice-cr...   \n",
              "...                                                 ...   \n",
              "4792  https://www.zomato.com/pune/atharva-pure-veg-b...   \n",
              "4793       https://www.zomato.com/pune/wow-momo-kothrud   \n",
              "4794  https://www.zomato.com/pune/fried-chicken-dest...   \n",
              "4795  https://www.zomato.com/pune/hotel-shree-yash-b...   \n",
              "4796  https://www.zomato.com/pune/vegeta-express-wan...   \n",
              "\n",
              "                                                Address     Phone_No  \\\n",
              "0     607, Ground Floor, 12th Main, Hal 2nd Stage, I...  9.18043E+11   \n",
              "1     78, Immaine Epip Industrial Area, Whitefield B...   9.1888E+11   \n",
              "2      7th Cross, Margosa Road, Malleshwaram, Bangalore  9.18023E+11   \n",
              "3          Ranga Rao Road, Near Basavanagudi, Bangalore  9.19845E+11   \n",
              "4     460, 2nd Cross, Krishna Temple Road, Indiranag...  9.18041E+11   \n",
              "...                                                 ...          ...   \n",
              "4792  Hajare Vasti, Pune-Nashik Highway, Moshi, Bhos...  9.19604E+11   \n",
              "4793  Shop 32, Ground Floor, Karishma Society, Kothr...  9.17596E+11   \n",
              "4794     Shop 5, Khandoba Sadan Building, Kothrud, Pune  9.18011E+11   \n",
              "4795                  108, S Block, MIDC, Bhosari, Pune  9.12027E+11   \n",
              "4796  Shop 740, 7th Floor, Marvel Vista Building, Ne...  9.18606E+11   \n",
              "\n",
              "       Latitude  Longitude  \n",
              "0     12.970394  77.644713  \n",
              "1     12.982413  77.721979  \n",
              "2     12.998270  77.569455  \n",
              "3     12.954043  77.568865  \n",
              "4     12.979121  77.644039  \n",
              "...         ...        ...  \n",
              "4792  18.664086  73.848660  \n",
              "4793  18.502520  73.821746  \n",
              "4794  18.501703  73.813066  \n",
              "4795  18.623934  73.839943  \n",
              "4796  18.486083  73.888467  \n",
              "\n",
              "[9906 rows x 13 columns]"
            ],
            "text/html": [
              "\n",
              "  <div id=\"df-7568c8b0-9fb4-4f2e-9d03-9005b636c7eb\">\n",
              "    <div class=\"colab-df-container\">\n",
              "      <div>\n",
              "<style scoped>\n",
              "    .dataframe tbody tr th:only-of-type {\n",
              "        vertical-align: middle;\n",
              "    }\n",
              "\n",
              "    .dataframe tbody tr th {\n",
              "        vertical-align: top;\n",
              "    }\n",
              "\n",
              "    .dataframe thead th {\n",
              "        text-align: right;\n",
              "    }\n",
              "</style>\n",
              "<table border=\"1\" class=\"dataframe\">\n",
              "  <thead>\n",
              "    <tr style=\"text-align: right;\">\n",
              "      <th></th>\n",
              "      <th>Restaurant_Name</th>\n",
              "      <th>Category</th>\n",
              "      <th>Pricing_for_2</th>\n",
              "      <th>Locality</th>\n",
              "      <th>Dining_Rating</th>\n",
              "      <th>Dining_Review_Count</th>\n",
              "      <th>Delivery_Rating</th>\n",
              "      <th>Delivery_Rating_Count</th>\n",
              "      <th>Website</th>\n",
              "      <th>Address</th>\n",
              "      <th>Phone_No</th>\n",
              "      <th>Latitude</th>\n",
              "      <th>Longitude</th>\n",
              "    </tr>\n",
              "  </thead>\n",
              "  <tbody>\n",
              "    <tr>\n",
              "      <th>0</th>\n",
              "      <td>Burma Burma</td>\n",
              "      <td>Asian, Burmese, Bubble Tea, Salad, Tea, Desser...</td>\n",
              "      <td>1500</td>\n",
              "      <td>Indiranagar, Bangalore</td>\n",
              "      <td>4.9</td>\n",
              "      <td>2790.0</td>\n",
              "      <td>4.5</td>\n",
              "      <td>838.0</td>\n",
              "      <td>https://www.zomato.com/bangalore/burma-burma-i...</td>\n",
              "      <td>607, Ground Floor, 12th Main, Hal 2nd Stage, I...</td>\n",
              "      <td>9.18043E+11</td>\n",
              "      <td>12.970394</td>\n",
              "      <td>77.644713</td>\n",
              "    </tr>\n",
              "    <tr>\n",
              "      <th>1</th>\n",
              "      <td>Windmills Craftworks</td>\n",
              "      <td>Continental, Fast Food, Kebab, Beverages, Ital...</td>\n",
              "      <td>2500</td>\n",
              "      <td>Windmills Craftworks, Bangalore</td>\n",
              "      <td>4.9</td>\n",
              "      <td>6543.0</td>\n",
              "      <td>4.2</td>\n",
              "      <td>524.0</td>\n",
              "      <td>https://www.zomato.com/bangalore/windmills-cra...</td>\n",
              "      <td>78, Immaine Epip Industrial Area, Whitefield B...</td>\n",
              "      <td>9.1888E+11</td>\n",
              "      <td>12.982413</td>\n",
              "      <td>77.721979</td>\n",
              "    </tr>\n",
              "    <tr>\n",
              "      <th>2</th>\n",
              "      <td>CTR Shri Sagar</td>\n",
              "      <td>South Indian</td>\n",
              "      <td>150</td>\n",
              "      <td>Malleshwaram, Bangalore</td>\n",
              "      <td>4.9</td>\n",
              "      <td>4837.0</td>\n",
              "      <td>4.3</td>\n",
              "      <td>22100.0</td>\n",
              "      <td>https://www.zomato.com/bangalore/ctr-shri-saga...</td>\n",
              "      <td>7th Cross, Margosa Road, Malleshwaram, Bangalore</td>\n",
              "      <td>9.18023E+11</td>\n",
              "      <td>12.998270</td>\n",
              "      <td>77.569455</td>\n",
              "    </tr>\n",
              "    <tr>\n",
              "      <th>3</th>\n",
              "      <td>Brahmin's Coffee Bar</td>\n",
              "      <td>South Indian</td>\n",
              "      <td>100</td>\n",
              "      <td>Basavanagudi, Bangalore</td>\n",
              "      <td>4.9</td>\n",
              "      <td>2975.0</td>\n",
              "      <td>4.4</td>\n",
              "      <td>372.0</td>\n",
              "      <td>https://www.zomato.com/bangalore/brahmins-coff...</td>\n",
              "      <td>Ranga Rao Road, Near Basavanagudi, Bangalore</td>\n",
              "      <td>9.19845E+11</td>\n",
              "      <td>12.954043</td>\n",
              "      <td>77.568865</td>\n",
              "    </tr>\n",
              "    <tr>\n",
              "      <th>4</th>\n",
              "      <td>Milano Ice Cream</td>\n",
              "      <td>Desserts, Ice Cream, Beverages</td>\n",
              "      <td>400</td>\n",
              "      <td>Indiranagar, Bangalore</td>\n",
              "      <td>4.9</td>\n",
              "      <td>2575.0</td>\n",
              "      <td>4.4</td>\n",
              "      <td>1180.0</td>\n",
              "      <td>https://www.zomato.com/bangalore/milano-ice-cr...</td>\n",
              "      <td>460, 2nd Cross, Krishna Temple Road, Indiranag...</td>\n",
              "      <td>9.18041E+11</td>\n",
              "      <td>12.979121</td>\n",
              "      <td>77.644039</td>\n",
              "    </tr>\n",
              "    <tr>\n",
              "      <th>...</th>\n",
              "      <td>...</td>\n",
              "      <td>...</td>\n",
              "      <td>...</td>\n",
              "      <td>...</td>\n",
              "      <td>...</td>\n",
              "      <td>...</td>\n",
              "      <td>...</td>\n",
              "      <td>...</td>\n",
              "      <td>...</td>\n",
              "      <td>...</td>\n",
              "      <td>...</td>\n",
              "      <td>...</td>\n",
              "      <td>...</td>\n",
              "    </tr>\n",
              "    <tr>\n",
              "      <th>4792</th>\n",
              "      <td>Atharva Pure Veg</td>\n",
              "      <td>North Indian, South Indian, Chinese, Fast Food...</td>\n",
              "      <td>600</td>\n",
              "      <td>Bhosari, Pune</td>\n",
              "      <td>3.0</td>\n",
              "      <td>45.0</td>\n",
              "      <td>NaN</td>\n",
              "      <td>0.0</td>\n",
              "      <td>https://www.zomato.com/pune/atharva-pure-veg-b...</td>\n",
              "      <td>Hajare Vasti, Pune-Nashik Highway, Moshi, Bhos...</td>\n",
              "      <td>9.19604E+11</td>\n",
              "      <td>18.664086</td>\n",
              "      <td>73.848660</td>\n",
              "    </tr>\n",
              "    <tr>\n",
              "      <th>4793</th>\n",
              "      <td>Wow! Momo</td>\n",
              "      <td>Momos, Tibetan, Fast Food</td>\n",
              "      <td>400</td>\n",
              "      <td>Kothrud, Pune</td>\n",
              "      <td>3.0</td>\n",
              "      <td>63.0</td>\n",
              "      <td>4.1</td>\n",
              "      <td>1212.0</td>\n",
              "      <td>https://www.zomato.com/pune/wow-momo-kothrud</td>\n",
              "      <td>Shop 32, Ground Floor, Karishma Society, Kothr...</td>\n",
              "      <td>9.17596E+11</td>\n",
              "      <td>18.502520</td>\n",
              "      <td>73.821746</td>\n",
              "    </tr>\n",
              "    <tr>\n",
              "      <th>4794</th>\n",
              "      <td>Fried Chicken Destination</td>\n",
              "      <td>Fast Food</td>\n",
              "      <td>400</td>\n",
              "      <td>Kothrud, Pune</td>\n",
              "      <td>3.0</td>\n",
              "      <td>7.0</td>\n",
              "      <td>3.9</td>\n",
              "      <td>359.0</td>\n",
              "      <td>https://www.zomato.com/pune/fried-chicken-dest...</td>\n",
              "      <td>Shop 5, Khandoba Sadan Building, Kothrud, Pune</td>\n",
              "      <td>9.18011E+11</td>\n",
              "      <td>18.501703</td>\n",
              "      <td>73.813066</td>\n",
              "    </tr>\n",
              "    <tr>\n",
              "      <th>4795</th>\n",
              "      <td>Hotel Shree Yash</td>\n",
              "      <td>North Indian, Biryani, Mughlai, Maharashtrian,...</td>\n",
              "      <td>1000</td>\n",
              "      <td>Bhosari, Pune</td>\n",
              "      <td>3.0</td>\n",
              "      <td>20.0</td>\n",
              "      <td>4.1</td>\n",
              "      <td>491.0</td>\n",
              "      <td>https://www.zomato.com/pune/hotel-shree-yash-b...</td>\n",
              "      <td>108, S Block, MIDC, Bhosari, Pune</td>\n",
              "      <td>9.12027E+11</td>\n",
              "      <td>18.623934</td>\n",
              "      <td>73.839943</td>\n",
              "    </tr>\n",
              "    <tr>\n",
              "      <th>4796</th>\n",
              "      <td>Vegeta Express</td>\n",
              "      <td>North Indian, Continental, Chinese, Desserts, ...</td>\n",
              "      <td>850</td>\n",
              "      <td>Wanowrie, Pune</td>\n",
              "      <td>3.0</td>\n",
              "      <td>130.0</td>\n",
              "      <td>NaN</td>\n",
              "      <td>8.0</td>\n",
              "      <td>https://www.zomato.com/pune/vegeta-express-wan...</td>\n",
              "      <td>Shop 740, 7th Floor, Marvel Vista Building, Ne...</td>\n",
              "      <td>9.18606E+11</td>\n",
              "      <td>18.486083</td>\n",
              "      <td>73.888467</td>\n",
              "    </tr>\n",
              "  </tbody>\n",
              "</table>\n",
              "<p>9906 rows × 13 columns</p>\n",
              "</div>\n",
              "      <button class=\"colab-df-convert\" onclick=\"convertToInteractive('df-7568c8b0-9fb4-4f2e-9d03-9005b636c7eb')\"\n",
              "              title=\"Convert this dataframe to an interactive table.\"\n",
              "              style=\"display:none;\">\n",
              "        \n",
              "  <svg xmlns=\"http://www.w3.org/2000/svg\" height=\"24px\"viewBox=\"0 0 24 24\"\n",
              "       width=\"24px\">\n",
              "    <path d=\"M0 0h24v24H0V0z\" fill=\"none\"/>\n",
              "    <path d=\"M18.56 5.44l.94 2.06.94-2.06 2.06-.94-2.06-.94-.94-2.06-.94 2.06-2.06.94zm-11 1L8.5 8.5l.94-2.06 2.06-.94-2.06-.94L8.5 2.5l-.94 2.06-2.06.94zm10 10l.94 2.06.94-2.06 2.06-.94-2.06-.94-.94-2.06-.94 2.06-2.06.94z\"/><path d=\"M17.41 7.96l-1.37-1.37c-.4-.4-.92-.59-1.43-.59-.52 0-1.04.2-1.43.59L10.3 9.45l-7.72 7.72c-.78.78-.78 2.05 0 2.83L4 21.41c.39.39.9.59 1.41.59.51 0 1.02-.2 1.41-.59l7.78-7.78 2.81-2.81c.8-.78.8-2.07 0-2.86zM5.41 20L4 18.59l7.72-7.72 1.47 1.35L5.41 20z\"/>\n",
              "  </svg>\n",
              "      </button>\n",
              "      \n",
              "  <style>\n",
              "    .colab-df-container {\n",
              "      display:flex;\n",
              "      flex-wrap:wrap;\n",
              "      gap: 12px;\n",
              "    }\n",
              "\n",
              "    .colab-df-convert {\n",
              "      background-color: #E8F0FE;\n",
              "      border: none;\n",
              "      border-radius: 50%;\n",
              "      cursor: pointer;\n",
              "      display: none;\n",
              "      fill: #1967D2;\n",
              "      height: 32px;\n",
              "      padding: 0 0 0 0;\n",
              "      width: 32px;\n",
              "    }\n",
              "\n",
              "    .colab-df-convert:hover {\n",
              "      background-color: #E2EBFA;\n",
              "      box-shadow: 0px 1px 2px rgba(60, 64, 67, 0.3), 0px 1px 3px 1px rgba(60, 64, 67, 0.15);\n",
              "      fill: #174EA6;\n",
              "    }\n",
              "\n",
              "    [theme=dark] .colab-df-convert {\n",
              "      background-color: #3B4455;\n",
              "      fill: #D2E3FC;\n",
              "    }\n",
              "\n",
              "    [theme=dark] .colab-df-convert:hover {\n",
              "      background-color: #434B5C;\n",
              "      box-shadow: 0px 1px 3px 1px rgba(0, 0, 0, 0.15);\n",
              "      filter: drop-shadow(0px 1px 2px rgba(0, 0, 0, 0.3));\n",
              "      fill: #FFFFFF;\n",
              "    }\n",
              "  </style>\n",
              "\n",
              "      <script>\n",
              "        const buttonEl =\n",
              "          document.querySelector('#df-7568c8b0-9fb4-4f2e-9d03-9005b636c7eb button.colab-df-convert');\n",
              "        buttonEl.style.display =\n",
              "          google.colab.kernel.accessAllowed ? 'block' : 'none';\n",
              "\n",
              "        async function convertToInteractive(key) {\n",
              "          const element = document.querySelector('#df-7568c8b0-9fb4-4f2e-9d03-9005b636c7eb');\n",
              "          const dataTable =\n",
              "            await google.colab.kernel.invokeFunction('convertToInteractive',\n",
              "                                                     [key], {});\n",
              "          if (!dataTable) return;\n",
              "\n",
              "          const docLinkHtml = 'Like what you see? Visit the ' +\n",
              "            '<a target=\"_blank\" href=https://colab.research.google.com/notebooks/data_table.ipynb>data table notebook</a>'\n",
              "            + ' to learn more about interactive tables.';\n",
              "          element.innerHTML = '';\n",
              "          dataTable['output_type'] = 'display_data';\n",
              "          await google.colab.output.renderOutput(dataTable, element);\n",
              "          const docLink = document.createElement('div');\n",
              "          docLink.innerHTML = docLinkHtml;\n",
              "          element.appendChild(docLink);\n",
              "        }\n",
              "      </script>\n",
              "    </div>\n",
              "  </div>\n",
              "  "
            ]
          },
          "metadata": {},
          "execution_count": 11
        }
      ]
    },
    {
      "cell_type": "code",
      "source": [
        "new_data.info"
      ],
      "metadata": {
        "colab": {
          "base_uri": "https://localhost:8080/"
        },
        "id": "pPz0rxsSKOCl",
        "outputId": "86254b99-1037-47c6-81d2-7f98fb520f2d"
      },
      "execution_count": 12,
      "outputs": [
        {
          "output_type": "execute_result",
          "data": {
            "text/plain": [
              "<bound method DataFrame.info of                 Restaurant_Name  \\\n",
              "0                   Burma Burma   \n",
              "1          Windmills Craftworks   \n",
              "2                CTR Shri Sagar   \n",
              "3          Brahmin's Coffee Bar   \n",
              "4              Milano Ice Cream   \n",
              "...                         ...   \n",
              "4792           Atharva Pure Veg   \n",
              "4793                  Wow! Momo   \n",
              "4794  Fried Chicken Destination   \n",
              "4795           Hotel Shree Yash   \n",
              "4796             Vegeta Express   \n",
              "\n",
              "                                               Category  Pricing_for_2  \\\n",
              "0     Asian, Burmese, Bubble Tea, Salad, Tea, Desser...           1500   \n",
              "1     Continental, Fast Food, Kebab, Beverages, Ital...           2500   \n",
              "2                                          South Indian            150   \n",
              "3                                          South Indian            100   \n",
              "4                        Desserts, Ice Cream, Beverages            400   \n",
              "...                                                 ...            ...   \n",
              "4792  North Indian, South Indian, Chinese, Fast Food...            600   \n",
              "4793                          Momos, Tibetan, Fast Food            400   \n",
              "4794                                          Fast Food            400   \n",
              "4795  North Indian, Biryani, Mughlai, Maharashtrian,...           1000   \n",
              "4796  North Indian, Continental, Chinese, Desserts, ...            850   \n",
              "\n",
              "                              Locality  Dining_Rating  Dining_Review_Count  \\\n",
              "0               Indiranagar, Bangalore            4.9               2790.0   \n",
              "1      Windmills Craftworks, Bangalore            4.9               6543.0   \n",
              "2              Malleshwaram, Bangalore            4.9               4837.0   \n",
              "3              Basavanagudi, Bangalore            4.9               2975.0   \n",
              "4               Indiranagar, Bangalore            4.9               2575.0   \n",
              "...                                ...            ...                  ...   \n",
              "4792                     Bhosari, Pune            3.0                 45.0   \n",
              "4793                     Kothrud, Pune            3.0                 63.0   \n",
              "4794                     Kothrud, Pune            3.0                  7.0   \n",
              "4795                     Bhosari, Pune            3.0                 20.0   \n",
              "4796                    Wanowrie, Pune            3.0                130.0   \n",
              "\n",
              "      Delivery_Rating  Delivery_Rating_Count  \\\n",
              "0                 4.5                  838.0   \n",
              "1                 4.2                  524.0   \n",
              "2                 4.3                22100.0   \n",
              "3                 4.4                  372.0   \n",
              "4                 4.4                 1180.0   \n",
              "...               ...                    ...   \n",
              "4792              NaN                    0.0   \n",
              "4793              4.1                 1212.0   \n",
              "4794              3.9                  359.0   \n",
              "4795              4.1                  491.0   \n",
              "4796              NaN                    8.0   \n",
              "\n",
              "                                                Website  \\\n",
              "0     https://www.zomato.com/bangalore/burma-burma-i...   \n",
              "1     https://www.zomato.com/bangalore/windmills-cra...   \n",
              "2     https://www.zomato.com/bangalore/ctr-shri-saga...   \n",
              "3     https://www.zomato.com/bangalore/brahmins-coff...   \n",
              "4     https://www.zomato.com/bangalore/milano-ice-cr...   \n",
              "...                                                 ...   \n",
              "4792  https://www.zomato.com/pune/atharva-pure-veg-b...   \n",
              "4793       https://www.zomato.com/pune/wow-momo-kothrud   \n",
              "4794  https://www.zomato.com/pune/fried-chicken-dest...   \n",
              "4795  https://www.zomato.com/pune/hotel-shree-yash-b...   \n",
              "4796  https://www.zomato.com/pune/vegeta-express-wan...   \n",
              "\n",
              "                                                Address     Phone_No  \\\n",
              "0     607, Ground Floor, 12th Main, Hal 2nd Stage, I...  9.18043E+11   \n",
              "1     78, Immaine Epip Industrial Area, Whitefield B...   9.1888E+11   \n",
              "2      7th Cross, Margosa Road, Malleshwaram, Bangalore  9.18023E+11   \n",
              "3          Ranga Rao Road, Near Basavanagudi, Bangalore  9.19845E+11   \n",
              "4     460, 2nd Cross, Krishna Temple Road, Indiranag...  9.18041E+11   \n",
              "...                                                 ...          ...   \n",
              "4792  Hajare Vasti, Pune-Nashik Highway, Moshi, Bhos...  9.19604E+11   \n",
              "4793  Shop 32, Ground Floor, Karishma Society, Kothr...  9.17596E+11   \n",
              "4794     Shop 5, Khandoba Sadan Building, Kothrud, Pune  9.18011E+11   \n",
              "4795                  108, S Block, MIDC, Bhosari, Pune  9.12027E+11   \n",
              "4796  Shop 740, 7th Floor, Marvel Vista Building, Ne...  9.18606E+11   \n",
              "\n",
              "       Latitude  Longitude  \n",
              "0     12.970394  77.644713  \n",
              "1     12.982413  77.721979  \n",
              "2     12.998270  77.569455  \n",
              "3     12.954043  77.568865  \n",
              "4     12.979121  77.644039  \n",
              "...         ...        ...  \n",
              "4792  18.664086  73.848660  \n",
              "4793  18.502520  73.821746  \n",
              "4794  18.501703  73.813066  \n",
              "4795  18.623934  73.839943  \n",
              "4796  18.486083  73.888467  \n",
              "\n",
              "[9906 rows x 13 columns]>"
            ]
          },
          "metadata": {},
          "execution_count": 12
        }
      ]
    },
    {
      "cell_type": "code",
      "source": [
        "pd.value_counts(new_data.Restaurant_Name)"
      ],
      "metadata": {
        "colab": {
          "base_uri": "https://localhost:8080/"
        },
        "id": "fxjiw1AnM7GK",
        "outputId": "cc604bab-59f9-45b0-dbc6-6435a27594a4"
      },
      "execution_count": 13,
      "outputs": [
        {
          "output_type": "execute_result",
          "data": {
            "text/plain": [
              "Hotel Malhar                          6\n",
              "Donne Biriyani Mane                   5\n",
              "Pokket Cafe                           5\n",
              "Reddy's Restaurant                    5\n",
              "Naivedyam                             4\n",
              "                                     ..\n",
              "Boston Barista - Kappayum Curriyum    1\n",
              "Adda - The Restaurant                 1\n",
              "Namma Madurai                         1\n",
              "Delhi Food Point                      1\n",
              "Vegeta Express                        1\n",
              "Name: Restaurant_Name, Length: 9317, dtype: int64"
            ]
          },
          "metadata": {},
          "execution_count": 13
        }
      ]
    },
    {
      "cell_type": "code",
      "source": [
        "new_data.columns"
      ],
      "metadata": {
        "colab": {
          "base_uri": "https://localhost:8080/"
        },
        "id": "66AaROlQM_kK",
        "outputId": "69d52a28-3562-4dbe-966b-99c647f2fed0"
      },
      "execution_count": 14,
      "outputs": [
        {
          "output_type": "execute_result",
          "data": {
            "text/plain": [
              "Index(['Restaurant_Name', 'Category', 'Pricing_for_2', 'Locality',\n",
              "       'Dining_Rating', 'Dining_Review_Count', 'Delivery_Rating',\n",
              "       'Delivery_Rating_Count', 'Website', 'Address', 'Phone_No', 'Latitude',\n",
              "       'Longitude'],\n",
              "      dtype='object')"
            ]
          },
          "metadata": {},
          "execution_count": 14
        }
      ]
    },
    {
      "cell_type": "code",
      "source": [
        "# droping the unnecessary columns of the data set\n",
        "new_data = new_data.drop(['Restaurant_Name','Category','Locality','Website','Address','Phone_No','Latitude','Longitude'],axis = True)"
      ],
      "metadata": {
        "id": "YZfMxaO0MU8C"
      },
      "execution_count": 15,
      "outputs": []
    },
    {
      "cell_type": "code",
      "source": [
        "new_data.head()"
      ],
      "metadata": {
        "colab": {
          "base_uri": "https://localhost:8080/",
          "height": 206
        },
        "id": "QldzEn1JNrFv",
        "outputId": "87ce96af-b45a-4774-cfd3-439bfb7ae2e0"
      },
      "execution_count": 16,
      "outputs": [
        {
          "output_type": "execute_result",
          "data": {
            "text/plain": [
              "   Pricing_for_2  Dining_Rating  Dining_Review_Count  Delivery_Rating  \\\n",
              "0           1500            4.9               2790.0              4.5   \n",
              "1           2500            4.9               6543.0              4.2   \n",
              "2            150            4.9               4837.0              4.3   \n",
              "3            100            4.9               2975.0              4.4   \n",
              "4            400            4.9               2575.0              4.4   \n",
              "\n",
              "   Delivery_Rating_Count  \n",
              "0                  838.0  \n",
              "1                  524.0  \n",
              "2                22100.0  \n",
              "3                  372.0  \n",
              "4                 1180.0  "
            ],
            "text/html": [
              "\n",
              "  <div id=\"df-0528ac0c-7a4b-4c3a-aff7-db2b5ade0ed1\">\n",
              "    <div class=\"colab-df-container\">\n",
              "      <div>\n",
              "<style scoped>\n",
              "    .dataframe tbody tr th:only-of-type {\n",
              "        vertical-align: middle;\n",
              "    }\n",
              "\n",
              "    .dataframe tbody tr th {\n",
              "        vertical-align: top;\n",
              "    }\n",
              "\n",
              "    .dataframe thead th {\n",
              "        text-align: right;\n",
              "    }\n",
              "</style>\n",
              "<table border=\"1\" class=\"dataframe\">\n",
              "  <thead>\n",
              "    <tr style=\"text-align: right;\">\n",
              "      <th></th>\n",
              "      <th>Pricing_for_2</th>\n",
              "      <th>Dining_Rating</th>\n",
              "      <th>Dining_Review_Count</th>\n",
              "      <th>Delivery_Rating</th>\n",
              "      <th>Delivery_Rating_Count</th>\n",
              "    </tr>\n",
              "  </thead>\n",
              "  <tbody>\n",
              "    <tr>\n",
              "      <th>0</th>\n",
              "      <td>1500</td>\n",
              "      <td>4.9</td>\n",
              "      <td>2790.0</td>\n",
              "      <td>4.5</td>\n",
              "      <td>838.0</td>\n",
              "    </tr>\n",
              "    <tr>\n",
              "      <th>1</th>\n",
              "      <td>2500</td>\n",
              "      <td>4.9</td>\n",
              "      <td>6543.0</td>\n",
              "      <td>4.2</td>\n",
              "      <td>524.0</td>\n",
              "    </tr>\n",
              "    <tr>\n",
              "      <th>2</th>\n",
              "      <td>150</td>\n",
              "      <td>4.9</td>\n",
              "      <td>4837.0</td>\n",
              "      <td>4.3</td>\n",
              "      <td>22100.0</td>\n",
              "    </tr>\n",
              "    <tr>\n",
              "      <th>3</th>\n",
              "      <td>100</td>\n",
              "      <td>4.9</td>\n",
              "      <td>2975.0</td>\n",
              "      <td>4.4</td>\n",
              "      <td>372.0</td>\n",
              "    </tr>\n",
              "    <tr>\n",
              "      <th>4</th>\n",
              "      <td>400</td>\n",
              "      <td>4.9</td>\n",
              "      <td>2575.0</td>\n",
              "      <td>4.4</td>\n",
              "      <td>1180.0</td>\n",
              "    </tr>\n",
              "  </tbody>\n",
              "</table>\n",
              "</div>\n",
              "      <button class=\"colab-df-convert\" onclick=\"convertToInteractive('df-0528ac0c-7a4b-4c3a-aff7-db2b5ade0ed1')\"\n",
              "              title=\"Convert this dataframe to an interactive table.\"\n",
              "              style=\"display:none;\">\n",
              "        \n",
              "  <svg xmlns=\"http://www.w3.org/2000/svg\" height=\"24px\"viewBox=\"0 0 24 24\"\n",
              "       width=\"24px\">\n",
              "    <path d=\"M0 0h24v24H0V0z\" fill=\"none\"/>\n",
              "    <path d=\"M18.56 5.44l.94 2.06.94-2.06 2.06-.94-2.06-.94-.94-2.06-.94 2.06-2.06.94zm-11 1L8.5 8.5l.94-2.06 2.06-.94-2.06-.94L8.5 2.5l-.94 2.06-2.06.94zm10 10l.94 2.06.94-2.06 2.06-.94-2.06-.94-.94-2.06-.94 2.06-2.06.94z\"/><path d=\"M17.41 7.96l-1.37-1.37c-.4-.4-.92-.59-1.43-.59-.52 0-1.04.2-1.43.59L10.3 9.45l-7.72 7.72c-.78.78-.78 2.05 0 2.83L4 21.41c.39.39.9.59 1.41.59.51 0 1.02-.2 1.41-.59l7.78-7.78 2.81-2.81c.8-.78.8-2.07 0-2.86zM5.41 20L4 18.59l7.72-7.72 1.47 1.35L5.41 20z\"/>\n",
              "  </svg>\n",
              "      </button>\n",
              "      \n",
              "  <style>\n",
              "    .colab-df-container {\n",
              "      display:flex;\n",
              "      flex-wrap:wrap;\n",
              "      gap: 12px;\n",
              "    }\n",
              "\n",
              "    .colab-df-convert {\n",
              "      background-color: #E8F0FE;\n",
              "      border: none;\n",
              "      border-radius: 50%;\n",
              "      cursor: pointer;\n",
              "      display: none;\n",
              "      fill: #1967D2;\n",
              "      height: 32px;\n",
              "      padding: 0 0 0 0;\n",
              "      width: 32px;\n",
              "    }\n",
              "\n",
              "    .colab-df-convert:hover {\n",
              "      background-color: #E2EBFA;\n",
              "      box-shadow: 0px 1px 2px rgba(60, 64, 67, 0.3), 0px 1px 3px 1px rgba(60, 64, 67, 0.15);\n",
              "      fill: #174EA6;\n",
              "    }\n",
              "\n",
              "    [theme=dark] .colab-df-convert {\n",
              "      background-color: #3B4455;\n",
              "      fill: #D2E3FC;\n",
              "    }\n",
              "\n",
              "    [theme=dark] .colab-df-convert:hover {\n",
              "      background-color: #434B5C;\n",
              "      box-shadow: 0px 1px 3px 1px rgba(0, 0, 0, 0.15);\n",
              "      filter: drop-shadow(0px 1px 2px rgba(0, 0, 0, 0.3));\n",
              "      fill: #FFFFFF;\n",
              "    }\n",
              "  </style>\n",
              "\n",
              "      <script>\n",
              "        const buttonEl =\n",
              "          document.querySelector('#df-0528ac0c-7a4b-4c3a-aff7-db2b5ade0ed1 button.colab-df-convert');\n",
              "        buttonEl.style.display =\n",
              "          google.colab.kernel.accessAllowed ? 'block' : 'none';\n",
              "\n",
              "        async function convertToInteractive(key) {\n",
              "          const element = document.querySelector('#df-0528ac0c-7a4b-4c3a-aff7-db2b5ade0ed1');\n",
              "          const dataTable =\n",
              "            await google.colab.kernel.invokeFunction('convertToInteractive',\n",
              "                                                     [key], {});\n",
              "          if (!dataTable) return;\n",
              "\n",
              "          const docLinkHtml = 'Like what you see? Visit the ' +\n",
              "            '<a target=\"_blank\" href=https://colab.research.google.com/notebooks/data_table.ipynb>data table notebook</a>'\n",
              "            + ' to learn more about interactive tables.';\n",
              "          element.innerHTML = '';\n",
              "          dataTable['output_type'] = 'display_data';\n",
              "          await google.colab.output.renderOutput(dataTable, element);\n",
              "          const docLink = document.createElement('div');\n",
              "          docLink.innerHTML = docLinkHtml;\n",
              "          element.appendChild(docLink);\n",
              "        }\n",
              "      </script>\n",
              "    </div>\n",
              "  </div>\n",
              "  "
            ]
          },
          "metadata": {},
          "execution_count": 16
        }
      ]
    },
    {
      "cell_type": "code",
      "source": [
        "pip install matplotlib"
      ],
      "metadata": {
        "colab": {
          "base_uri": "https://localhost:8080/"
        },
        "id": "HbQOl4VqNyPq",
        "outputId": "28f720f7-9012-4205-d87d-ee3b1ceabd5d"
      },
      "execution_count": null,
      "outputs": [
        {
          "output_type": "stream",
          "name": "stdout",
          "text": [
            "Looking in indexes: https://pypi.org/simple, https://us-python.pkg.dev/colab-wheels/public/simple/\n",
            "Requirement already satisfied: matplotlib in /usr/local/lib/python3.10/dist-packages (3.7.1)\n",
            "Requirement already satisfied: contourpy>=1.0.1 in /usr/local/lib/python3.10/dist-packages (from matplotlib) (1.0.7)\n",
            "Requirement already satisfied: cycler>=0.10 in /usr/local/lib/python3.10/dist-packages (from matplotlib) (0.11.0)\n",
            "Requirement already satisfied: fonttools>=4.22.0 in /usr/local/lib/python3.10/dist-packages (from matplotlib) (4.39.3)\n",
            "Requirement already satisfied: kiwisolver>=1.0.1 in /usr/local/lib/python3.10/dist-packages (from matplotlib) (1.4.4)\n",
            "Requirement already satisfied: numpy>=1.20 in /usr/local/lib/python3.10/dist-packages (from matplotlib) (1.22.4)\n",
            "Requirement already satisfied: packaging>=20.0 in /usr/local/lib/python3.10/dist-packages (from matplotlib) (23.1)\n",
            "Requirement already satisfied: pillow>=6.2.0 in /usr/local/lib/python3.10/dist-packages (from matplotlib) (8.4.0)\n",
            "Requirement already satisfied: pyparsing>=2.3.1 in /usr/local/lib/python3.10/dist-packages (from matplotlib) (3.0.9)\n",
            "Requirement already satisfied: python-dateutil>=2.7 in /usr/local/lib/python3.10/dist-packages (from matplotlib) (2.8.2)\n",
            "Requirement already satisfied: six>=1.5 in /usr/local/lib/python3.10/dist-packages (from python-dateutil>=2.7->matplotlib) (1.16.0)\n"
          ]
        }
      ]
    },
    {
      "cell_type": "code",
      "source": [
        "pd.value_counts(new_data['Pricing_for_2'])"
      ],
      "metadata": {
        "colab": {
          "base_uri": "https://localhost:8080/"
        },
        "id": "LrJVGKqdPRIR",
        "outputId": "6906810e-f356-44a3-bffa-fab06dfcea47"
      },
      "execution_count": 17,
      "outputs": [
        {
          "output_type": "execute_result",
          "data": {
            "text/plain": [
              "300     1528\n",
              "400     1272\n",
              "500     1069\n",
              "200      734\n",
              "600      634\n",
              "250      545\n",
              "350      541\n",
              "700      412\n",
              "800      381\n",
              "450      344\n",
              "150      322\n",
              "1000     262\n",
              "1200     200\n",
              "100      194\n",
              "550      193\n",
              "1500     167\n",
              "650      122\n",
              "900      117\n",
              "1400      94\n",
              "750       91\n",
              "1600      84\n",
              "2000      84\n",
              "1300      83\n",
              "1100      77\n",
              "1800      65\n",
              "1700      49\n",
              "2500      37\n",
              "850       36\n",
              "3000      27\n",
              "2200      21\n",
              "2100      15\n",
              "1900      15\n",
              "950       12\n",
              "3500      11\n",
              "2400       9\n",
              "2300       8\n",
              "2600       7\n",
              "4000       6\n",
              "1450       4\n",
              "1150       4\n",
              "2800       4\n",
              "2900       3\n",
              "3200       3\n",
              "1650       2\n",
              "2700       2\n",
              "1050       2\n",
              "1250       2\n",
              "3700       2\n",
              "5000       1\n",
              "3400       1\n",
              "4200       1\n",
              "6000       1\n",
              "4500       1\n",
              "3300       1\n",
              "3600       1\n",
              "1350       1\n",
              "4300       1\n",
              "1950       1\n",
              "Name: Pricing_for_2, dtype: int64"
            ]
          },
          "metadata": {},
          "execution_count": 17
        }
      ]
    },
    {
      "cell_type": "code",
      "source": [
        "# plot graph with pricing \n",
        "plt.plot(new_data['Pricing_for_2'])\n",
        "plt.title(\"plot graph for pricing for 2 people\")\n",
        "plt.xlabel('Counts of pricing')\n",
        "plt.ylabel('Pricing for 2')\n",
        "plt.show()\n"
      ],
      "metadata": {
        "colab": {
          "base_uri": "https://localhost:8080/",
          "height": 472
        },
        "id": "c-lvQWpWODBh",
        "outputId": "80dd6fcb-71ed-4397-860c-3a007af03e43"
      },
      "execution_count": 18,
      "outputs": [
        {
          "output_type": "display_data",
          "data": {
            "text/plain": [
              "<Figure size 640x480 with 1 Axes>"
            ],
            "image/png": "[encoded data removed]"
          },
          "metadata": {}
        }
      ]
    },
    {
      "cell_type": "code",
      "source": [
        "# plot graph with Dining review count\n",
        "plt.plot(new_data['Dining_Review_Count'])\n",
        "plt.title('Line graph')\n",
        "plt.xlabel('counts of review')\n",
        "plt.ylabel('Dining review count')\n",
        "plt.show()"
      ],
      "metadata": {
        "colab": {
          "base_uri": "https://localhost:8080/",
          "height": 472
        },
        "id": "j6cv2swZxpAu",
        "outputId": "9e56978d-5ffb-4891-ce5d-312ed93bcf9a"
      },
      "execution_count": 21,
      "outputs": [
        {
          "output_type": "display_data",
          "data": {
            "text/plain": [
              "<Figure size 640x480 with 1 Axes>"
            ],
            "image/png": "[encoded data removed]"
          },
          "metadata": {}
        }
      ]
    },
    {
      "cell_type": "code",
      "source": [
        "# plot graph with delivery rating counts\n",
        "plt.plot(new_data['Delivery_Rating_Count'])\n",
        "plt.title('Line graph')\n",
        "plt.xlabel('counts of rating')\n",
        "plt.ylabel('delivery rating count')\n",
        "plt.show()"
      ],
      "metadata": {
        "colab": {
          "base_uri": "https://localhost:8080/",
          "height": 472
        },
        "id": "KlvycsXlymI8",
        "outputId": "bd2a3a8f-6fe3-417e-8745-ec31f4ba975c"
      },
      "execution_count": 22,
      "outputs": [
        {
          "output_type": "display_data",
          "data": {
            "text/plain": [
              "<Figure size 640x480 with 1 Axes>"
            ],
            "image/png": "[encoded data removed]"
          },
          "metadata": {}
        }
      ]
    },
    {
      "cell_type": "code",
      "source": [
        "# scatter graph for delivery rating against pricing \n",
        "plt.scatter(new_data['Delivery_Rating'],new_data['Pricing_for_2'])\n",
        "plt.title('Scatter graph')\n",
        "plt.xlabel('Dining rating')\n",
        "plt.ylabel('Pricing for 2')\n",
        "plt.show()"
      ],
      "metadata": {
        "colab": {
          "base_uri": "https://localhost:8080/",
          "height": 472
        },
        "id": "3rKeGlK-PwOO",
        "outputId": "6d5777bc-6d82-4142-d19f-874edf585f12"
      },
      "execution_count": 23,
      "outputs": [
        {
          "output_type": "display_data",
          "data": {
            "text/plain": [
              "<Figure size 640x480 with 1 Axes>"
            ],
            "image/png": "[encoded data removed]"
          },
          "metadata": {}
        }
      ]
    },
    {
      "cell_type": "code",
      "source": [
        "# scatter graph for pricing against dining rating count\n",
        "plt.scatter(new_data['Dining_Review_Count'],new_data['Pricing_for_2'])\n",
        "plt.title('Scatter graph')\n",
        "plt.xlabel('Dining_Review_count')\n",
        "plt.ylabel('Pricing_for_2')\n",
        "plt.show()"
      ],
      "metadata": {
        "colab": {
          "base_uri": "https://localhost:8080/",
          "height": 472
        },
        "id": "52ogJ35yTD4A",
        "outputId": "8202c4c1-9bc7-481d-fea0-5ecd68d95e2e"
      },
      "execution_count": 24,
      "outputs": [
        {
          "output_type": "display_data",
          "data": {
            "text/plain": [
              "<Figure size 640x480 with 1 Axes>"
            ],
            "image/png": "[encoded data removed]"
          },
          "metadata": {}
        }
      ]
    },
    {
      "cell_type": "code",
      "source": [
        "#  graph for pricing against delivery rating\n",
        "plt.plot(new_data['Delivery_Rating'])\n",
        "plt.xlabel('counts of delivery rating')\n",
        "plt.ylabel('pricing for 2')\n",
        "plt.show()"
      ],
      "metadata": {
        "colab": {
          "base_uri": "https://localhost:8080/",
          "height": 449
        },
        "id": "8FaekScKUxc3",
        "outputId": "1d91f7bf-c184-403b-8328-aa507768242f"
      },
      "execution_count": 25,
      "outputs": [
        {
          "output_type": "display_data",
          "data": {
            "text/plain": [
              "<Figure size 640x480 with 1 Axes>"
            ],
            "image/png": "[encoded data removed]"
          },
          "metadata": {}
        }
      ]
    },
    {
      "cell_type": "code",
      "source": [
        "# bar graph for pricing and delivery rating\n",
        "res = sns.barplot(x = new_data['Pricing_for_2'],y = new_data['Delivery_Rating'],data = new_data,edgecolor = \"0.2\",linewidth = 0.5)\n",
        "plt.show()"
      ],
      "metadata": {
        "colab": {
          "base_uri": "https://localhost:8080/",
          "height": 1000
        },
        "id": "1i6B1q9WY0os",
        "outputId": "4b5f8b24-e953-42f6-b493-cb6e4b44e580"
      },
      "execution_count": 26,
      "outputs": [
        {
          "output_type": "stream",
          "name": "stderr",
          "text": [
            "/usr/local/lib/python3.10/dist-packages/seaborn/algorithms.py:98: RuntimeWarning: Mean of empty slice\n",
            "  boot_dist.append(f(*sample, **func_kwargs))\n",
            "/usr/local/lib/python3.10/dist-packages/numpy/lib/nanfunctions.py:1560: RuntimeWarning: All-NaN slice encountered\n",
            "  r, k = function_base._ureduce(a,\n",
            "/usr/local/lib/python3.10/dist-packages/seaborn/algorithms.py:98: RuntimeWarning: Mean of empty slice\n",
            "  boot_dist.append(f(*sample, **func_kwargs))\n",
            "/usr/local/lib/python3.10/dist-packages/seaborn/algorithms.py:98: RuntimeWarning: Mean of empty slice\n",
            "  boot_dist.append(f(*sample, **func_kwargs))\n",
            "/usr/local/lib/python3.10/dist-packages/seaborn/algorithms.py:98: RuntimeWarning: Mean of empty slice\n",
            "  boot_dist.append(f(*sample, **func_kwargs))\n",
            "/usr/local/lib/python3.10/dist-packages/seaborn/algorithms.py:98: RuntimeWarning: Mean of empty slice\n",
            "  boot_dist.append(f(*sample, **func_kwargs))\n",
            "/usr/local/lib/python3.10/dist-packages/numpy/lib/nanfunctions.py:1560: RuntimeWarning: All-NaN slice encountered\n",
            "  r, k = function_base._ureduce(a,\n",
            "/usr/local/lib/python3.10/dist-packages/seaborn/algorithms.py:98: RuntimeWarning: Mean of empty slice\n",
            "  boot_dist.append(f(*sample, **func_kwargs))\n",
            "/usr/local/lib/python3.10/dist-packages/seaborn/algorithms.py:98: RuntimeWarning: Mean of empty slice\n",
            "  boot_dist.append(f(*sample, **func_kwargs))\n",
            "/usr/local/lib/python3.10/dist-packages/seaborn/algorithms.py:98: RuntimeWarning: Mean of empty slice\n",
            "  boot_dist.append(f(*sample, **func_kwargs))\n",
            "/usr/local/lib/python3.10/dist-packages/seaborn/algorithms.py:98: RuntimeWarning: Mean of empty slice\n",
            "  boot_dist.append(f(*sample, **func_kwargs))\n",
            "/usr/local/lib/python3.10/dist-packages/seaborn/algorithms.py:98: RuntimeWarning: Mean of empty slice\n",
            "  boot_dist.append(f(*sample, **func_kwargs))\n",
            "/usr/local/lib/python3.10/dist-packages/seaborn/algorithms.py:98: RuntimeWarning: Mean of empty slice\n",
            "  boot_dist.append(f(*sample, **func_kwargs))\n",
            "/usr/local/lib/python3.10/dist-packages/numpy/lib/nanfunctions.py:1560: RuntimeWarning: All-NaN slice encountered\n",
            "  r, k = function_base._ureduce(a,\n",
            "/usr/local/lib/python3.10/dist-packages/seaborn/algorithms.py:98: RuntimeWarning: Mean of empty slice\n",
            "  boot_dist.append(f(*sample, **func_kwargs))\n",
            "/usr/local/lib/python3.10/dist-packages/seaborn/algorithms.py:98: RuntimeWarning: Mean of empty slice\n",
            "  boot_dist.append(f(*sample, **func_kwargs))\n",
            "/usr/local/lib/python3.10/dist-packages/seaborn/algorithms.py:98: RuntimeWarning: Mean of empty slice\n",
            "  boot_dist.append(f(*sample, **func_kwargs))\n",
            "/usr/local/lib/python3.10/dist-packages/seaborn/algorithms.py:98: RuntimeWarning: Mean of empty slice\n",
            "  boot_dist.append(f(*sample, **func_kwargs))\n",
            "/usr/local/lib/python3.10/dist-packages/numpy/lib/nanfunctions.py:1560: RuntimeWarning: All-NaN slice encountered\n",
            "  r, k = function_base._ureduce(a,\n"
          ]
        },
        {
          "output_type": "display_data",
          "data": {
            "text/plain": [
              "<Figure size 640x480 with 1 Axes>"
            ],
            "image/png": "[encoded data removed]"
          },
          "metadata": {}
        }
      ]
    },
    {
      "cell_type": "code",
      "source": [
        "plt.scatter(new_data['Delivery_Rating'],new_data['Pricing_for_2'])\n",
        "plt.title('Scatter graph')\n",
        "plt.xlabel('Delivery rating')\n",
        "plt.ylabel('pricing for 2')\n",
        "plt.show()"
      ],
      "metadata": {
        "colab": {
          "base_uri": "https://localhost:8080/",
          "height": 472
        },
        "id": "dtj-TdMcbyYi",
        "outputId": "fa085d77-612f-4e27-8631-0abf6f719c5e"
      },
      "execution_count": 28,
      "outputs": [
        {
          "output_type": "display_data",
          "data": {
            "text/plain": [
              "<Figure size 640x480 with 1 Axes>"
            ],
            "image/png": "[encoded data removed]"
          },
          "metadata": {}
        }
      ]
    },
    {
      "cell_type": "code",
      "source": [
        "# scatter graph for pricing against delivery rating counts\n",
        "plt.scatter(new_data['Delivery_Rating_Count'],new_data['Pricing_for_2'])\n",
        "plt.title('Scatter graph')\n",
        "plt.xlabel('Delivery rating count')\n",
        "plt.ylabel('pricing for 2')\n",
        "plt.show()"
      ],
      "metadata": {
        "colab": {
          "base_uri": "https://localhost:8080/",
          "height": 472
        },
        "id": "bC_UW5NacmaO",
        "outputId": "56524b65-c488-43f2-91f9-b08ebcd7c0a5"
      },
      "execution_count": 29,
      "outputs": [
        {
          "output_type": "display_data",
          "data": {
            "text/plain": [
              "<Figure size 640x480 with 1 Axes>"
            ],
            "image/png": "[encoded data removed]"
          },
          "metadata": {}
        }
      ]
    },
    {
      "cell_type": "code",
      "source": [
        "new_data.describe"
      ],
      "metadata": {
        "colab": {
          "base_uri": "https://localhost:8080/"
        },
        "id": "-IN98gPwdjSW",
        "outputId": "274a6a85-0cda-41c2-d3f1-7c7e670c0efe"
      },
      "execution_count": 30,
      "outputs": [
        {
          "output_type": "execute_result",
          "data": {
            "text/plain": [
              "<bound method NDFrame.describe of       Pricing_for_2  Dining_Rating  Dining_Review_Count  Delivery_Rating  \\\n",
              "0              1500            4.9               2790.0              4.5   \n",
              "1              2500            4.9               6543.0              4.2   \n",
              "2               150            4.9               4837.0              4.3   \n",
              "3               100            4.9               2975.0              4.4   \n",
              "4               400            4.9               2575.0              4.4   \n",
              "...             ...            ...                  ...              ...   \n",
              "4792            600            3.0                 45.0              NaN   \n",
              "4793            400            3.0                 63.0              4.1   \n",
              "4794            400            3.0                  7.0              3.9   \n",
              "4795           1000            3.0                 20.0              4.1   \n",
              "4796            850            3.0                130.0              NaN   \n",
              "\n",
              "      Delivery_Rating_Count  \n",
              "0                     838.0  \n",
              "1                     524.0  \n",
              "2                   22100.0  \n",
              "3                     372.0  \n",
              "4                    1180.0  \n",
              "...                     ...  \n",
              "4792                    0.0  \n",
              "4793                 1212.0  \n",
              "4794                  359.0  \n",
              "4795                  491.0  \n",
              "4796                    8.0  \n",
              "\n",
              "[9906 rows x 5 columns]>"
            ]
          },
          "metadata": {},
          "execution_count": 30
        }
      ]
    },
    {
      "cell_type": "code",
      "source": [
        "new_data.head()"
      ],
      "metadata": {
        "colab": {
          "base_uri": "https://localhost:8080/",
          "height": 206
        },
        "id": "ttbIPptHdQAD",
        "outputId": "89628fd5-315e-4cd0-cfe6-0eacf2a2f23f"
      },
      "execution_count": 31,
      "outputs": [
        {
          "output_type": "execute_result",
          "data": {
            "text/plain": [
              "   Pricing_for_2  Dining_Rating  Dining_Review_Count  Delivery_Rating  \\\n",
              "0           1500            4.9               2790.0              4.5   \n",
              "1           2500            4.9               6543.0              4.2   \n",
              "2            150            4.9               4837.0              4.3   \n",
              "3            100            4.9               2975.0              4.4   \n",
              "4            400            4.9               2575.0              4.4   \n",
              "\n",
              "   Delivery_Rating_Count  \n",
              "0                  838.0  \n",
              "1                  524.0  \n",
              "2                22100.0  \n",
              "3                  372.0  \n",
              "4                 1180.0  "
            ],
            "text/html": [
              "\n",
              "  <div id=\"df-3a8b8c94-2cbf-480d-bc5e-22e5d182c9a3\">\n",
              "    <div class=\"colab-df-container\">\n",
              "      <div>\n",
              "<style scoped>\n",
              "    .dataframe tbody tr th:only-of-type {\n",
              "        vertical-align: middle;\n",
              "    }\n",
              "\n",
              "    .dataframe tbody tr th {\n",
              "        vertical-align: top;\n",
              "    }\n",
              "\n",
              "    .dataframe thead th {\n",
              "        text-align: right;\n",
              "    }\n",
              "</style>\n",
              "<table border=\"1\" class=\"dataframe\">\n",
              "  <thead>\n",
              "    <tr style=\"text-align: right;\">\n",
              "      <th></th>\n",
              "      <th>Pricing_for_2</th>\n",
              "      <th>Dining_Rating</th>\n",
              "      <th>Dining_Review_Count</th>\n",
              "      <th>Delivery_Rating</th>\n",
              "      <th>Delivery_Rating_Count</th>\n",
              "    </tr>\n",
              "  </thead>\n",
              "  <tbody>\n",
              "    <tr>\n",
              "      <th>0</th>\n",
              "      <td>1500</td>\n",
              "      <td>4.9</td>\n",
              "      <td>2790.0</td>\n",
              "      <td>4.5</td>\n",
              "      <td>838.0</td>\n",
              "    </tr>\n",
              "    <tr>\n",
              "      <th>1</th>\n",
              "      <td>2500</td>\n",
              "      <td>4.9</td>\n",
              "      <td>6543.0</td>\n",
              "      <td>4.2</td>\n",
              "      <td>524.0</td>\n",
              "    </tr>\n",
              "    <tr>\n",
              "      <th>2</th>\n",
              "      <td>150</td>\n",
              "      <td>4.9</td>\n",
              "      <td>4837.0</td>\n",
              "      <td>4.3</td>\n",
              "      <td>22100.0</td>\n",
              "    </tr>\n",
              "    <tr>\n",
              "      <th>3</th>\n",
              "      <td>100</td>\n",
              "      <td>4.9</td>\n",
              "      <td>2975.0</td>\n",
              "      <td>4.4</td>\n",
              "      <td>372.0</td>\n",
              "    </tr>\n",
              "    <tr>\n",
              "      <th>4</th>\n",
              "      <td>400</td>\n",
              "      <td>4.9</td>\n",
              "      <td>2575.0</td>\n",
              "      <td>4.4</td>\n",
              "      <td>1180.0</td>\n",
              "    </tr>\n",
              "  </tbody>\n",
              "</table>\n",
              "</div>\n",
              "      <button class=\"colab-df-convert\" onclick=\"convertToInteractive('df-3a8b8c94-2cbf-480d-bc5e-22e5d182c9a3')\"\n",
              "              title=\"Convert this dataframe to an interactive table.\"\n",
              "              style=\"display:none;\">\n",
              "        \n",
              "  <svg xmlns=\"http://www.w3.org/2000/svg\" height=\"24px\"viewBox=\"0 0 24 24\"\n",
              "       width=\"24px\">\n",
              "    <path d=\"M0 0h24v24H0V0z\" fill=\"none\"/>\n",
              "    <path d=\"M18.56 5.44l.94 2.06.94-2.06 2.06-.94-2.06-.94-.94-2.06-.94 2.06-2.06.94zm-11 1L8.5 8.5l.94-2.06 2.06-.94-2.06-.94L8.5 2.5l-.94 2.06-2.06.94zm10 10l.94 2.06.94-2.06 2.06-.94-2.06-.94-.94-2.06-.94 2.06-2.06.94z\"/><path d=\"M17.41 7.96l-1.37-1.37c-.4-.4-.92-.59-1.43-.59-.52 0-1.04.2-1.43.59L10.3 9.45l-7.72 7.72c-.78.78-.78 2.05 0 2.83L4 21.41c.39.39.9.59 1.41.59.51 0 1.02-.2 1.41-.59l7.78-7.78 2.81-2.81c.8-.78.8-2.07 0-2.86zM5.41 20L4 18.59l7.72-7.72 1.47 1.35L5.41 20z\"/>\n",
              "  </svg>\n",
              "      </button>\n",
              "      \n",
              "  <style>\n",
              "    .colab-df-container {\n",
              "      display:flex;\n",
              "      flex-wrap:wrap;\n",
              "      gap: 12px;\n",
              "    }\n",
              "\n",
              "    .colab-df-convert {\n",
              "      background-color: #E8F0FE;\n",
              "      border: none;\n",
              "      border-radius: 50%;\n",
              "      cursor: pointer;\n",
              "      display: none;\n",
              "      fill: #1967D2;\n",
              "      height: 32px;\n",
              "      padding: 0 0 0 0;\n",
              "      width: 32px;\n",
              "    }\n",
              "\n",
              "    .colab-df-convert:hover {\n",
              "      background-color: #E2EBFA;\n",
              "      box-shadow: 0px 1px 2px rgba(60, 64, 67, 0.3), 0px 1px 3px 1px rgba(60, 64, 67, 0.15);\n",
              "      fill: #174EA6;\n",
              "    }\n",
              "\n",
              "    [theme=dark] .colab-df-convert {\n",
              "      background-color: #3B4455;\n",
              "      fill: #D2E3FC;\n",
              "    }\n",
              "\n",
              "    [theme=dark] .colab-df-convert:hover {\n",
              "      background-color: #434B5C;\n",
              "      box-shadow: 0px 1px 3px 1px rgba(0, 0, 0, 0.15);\n",
              "      filter: drop-shadow(0px 1px 2px rgba(0, 0, 0, 0.3));\n",
              "      fill: #FFFFFF;\n",
              "    }\n",
              "  </style>\n",
              "\n",
              "      <script>\n",
              "        const buttonEl =\n",
              "          document.querySelector('#df-3a8b8c94-2cbf-480d-bc5e-22e5d182c9a3 button.colab-df-convert');\n",
              "        buttonEl.style.display =\n",
              "          google.colab.kernel.accessAllowed ? 'block' : 'none';\n",
              "\n",
              "        async function convertToInteractive(key) {\n",
              "          const element = document.querySelector('#df-3a8b8c94-2cbf-480d-bc5e-22e5d182c9a3');\n",
              "          const dataTable =\n",
              "            await google.colab.kernel.invokeFunction('convertToInteractive',\n",
              "                                                     [key], {});\n",
              "          if (!dataTable) return;\n",
              "\n",
              "          const docLinkHtml = 'Like what you see? Visit the ' +\n",
              "            '<a target=\"_blank\" href=https://colab.research.google.com/notebooks/data_table.ipynb>data table notebook</a>'\n",
              "            + ' to learn more about interactive tables.';\n",
              "          element.innerHTML = '';\n",
              "          dataTable['output_type'] = 'display_data';\n",
              "          await google.colab.output.renderOutput(dataTable, element);\n",
              "          const docLink = document.createElement('div');\n",
              "          docLink.innerHTML = docLinkHtml;\n",
              "          element.appendChild(docLink);\n",
              "        }\n",
              "      </script>\n",
              "    </div>\n",
              "  </div>\n",
              "  "
            ]
          },
          "metadata": {},
          "execution_count": 31
        }
      ]
    },
    {
      "cell_type": "code",
      "source": [
        "titles = list(new_data.columns)\n",
        "titles"
      ],
      "metadata": {
        "colab": {
          "base_uri": "https://localhost:8080/"
        },
        "id": "HhSuvq8ddWPa",
        "outputId": "a47f3655-2d0f-4dab-ced8-f4d5321a713c"
      },
      "execution_count": 32,
      "outputs": [
        {
          "output_type": "execute_result",
          "data": {
            "text/plain": [
              "['Pricing_for_2',\n",
              " 'Dining_Rating',\n",
              " 'Dining_Review_Count',\n",
              " 'Delivery_Rating',\n",
              " 'Delivery_Rating_Count']"
            ]
          },
          "metadata": {},
          "execution_count": 32
        }
      ]
    },
    {
      "cell_type": "code",
      "source": [
        "titles[0],titles[4] = titles[4],titles[0]\n",
        "titles"
      ],
      "metadata": {
        "colab": {
          "base_uri": "https://localhost:8080/"
        },
        "id": "I5RqPoL3dyGn",
        "outputId": "5655a116-fa8c-4284-f778-8f882195da59"
      },
      "execution_count": 33,
      "outputs": [
        {
          "output_type": "execute_result",
          "data": {
            "text/plain": [
              "['Delivery_Rating_Count',\n",
              " 'Dining_Rating',\n",
              " 'Dining_Review_Count',\n",
              " 'Delivery_Rating',\n",
              " 'Pricing_for_2']"
            ]
          },
          "metadata": {},
          "execution_count": 33
        }
      ]
    },
    {
      "cell_type": "code",
      "source": [
        "new_data = new_data[titles]\n",
        "new_data.head()"
      ],
      "metadata": {
        "colab": {
          "base_uri": "https://localhost:8080/",
          "height": 206
        },
        "id": "S5niN8cOeAoP",
        "outputId": "53f0eb39-6da2-468b-9fbd-46ebdee67944"
      },
      "execution_count": 34,
      "outputs": [
        {
          "output_type": "execute_result",
          "data": {
            "text/plain": [
              "   Delivery_Rating_Count  Dining_Rating  Dining_Review_Count  Delivery_Rating  \\\n",
              "0                  838.0            4.9               2790.0              4.5   \n",
              "1                  524.0            4.9               6543.0              4.2   \n",
              "2                22100.0            4.9               4837.0              4.3   \n",
              "3                  372.0            4.9               2975.0              4.4   \n",
              "4                 1180.0            4.9               2575.0              4.4   \n",
              "\n",
              "   Pricing_for_2  \n",
              "0           1500  \n",
              "1           2500  \n",
              "2            150  \n",
              "3            100  \n",
              "4            400  "
            ],
            "text/html": [
              "\n",
              "  <div id=\"df-be32346d-2c3c-441b-96ad-02480bc44eba\">\n",
              "    <div class=\"colab-df-container\">\n",
              "      <div>\n",
              "<style scoped>\n",
              "    .dataframe tbody tr th:only-of-type {\n",
              "        vertical-align: middle;\n",
              "    }\n",
              "\n",
              "    .dataframe tbody tr th {\n",
              "        vertical-align: top;\n",
              "    }\n",
              "\n",
              "    .dataframe thead th {\n",
              "        text-align: right;\n",
              "    }\n",
              "</style>\n",
              "<table border=\"1\" class=\"dataframe\">\n",
              "  <thead>\n",
              "    <tr style=\"text-align: right;\">\n",
              "      <th></th>\n",
              "      <th>Delivery_Rating_Count</th>\n",
              "      <th>Dining_Rating</th>\n",
              "      <th>Dining_Review_Count</th>\n",
              "      <th>Delivery_Rating</th>\n",
              "      <th>Pricing_for_2</th>\n",
              "    </tr>\n",
              "  </thead>\n",
              "  <tbody>\n",
              "    <tr>\n",
              "      <th>0</th>\n",
              "      <td>838.0</td>\n",
              "      <td>4.9</td>\n",
              "      <td>2790.0</td>\n",
              "      <td>4.5</td>\n",
              "      <td>1500</td>\n",
              "    </tr>\n",
              "    <tr>\n",
              "      <th>1</th>\n",
              "      <td>524.0</td>\n",
              "      <td>4.9</td>\n",
              "      <td>6543.0</td>\n",
              "      <td>4.2</td>\n",
              "      <td>2500</td>\n",
              "    </tr>\n",
              "    <tr>\n",
              "      <th>2</th>\n",
              "      <td>22100.0</td>\n",
              "      <td>4.9</td>\n",
              "      <td>4837.0</td>\n",
              "      <td>4.3</td>\n",
              "      <td>150</td>\n",
              "    </tr>\n",
              "    <tr>\n",
              "      <th>3</th>\n",
              "      <td>372.0</td>\n",
              "      <td>4.9</td>\n",
              "      <td>2975.0</td>\n",
              "      <td>4.4</td>\n",
              "      <td>100</td>\n",
              "    </tr>\n",
              "    <tr>\n",
              "      <th>4</th>\n",
              "      <td>1180.0</td>\n",
              "      <td>4.9</td>\n",
              "      <td>2575.0</td>\n",
              "      <td>4.4</td>\n",
              "      <td>400</td>\n",
              "    </tr>\n",
              "  </tbody>\n",
              "</table>\n",
              "</div>\n",
              "      <button class=\"colab-df-convert\" onclick=\"convertToInteractive('df-be32346d-2c3c-441b-96ad-02480bc44eba')\"\n",
              "              title=\"Convert this dataframe to an interactive table.\"\n",
              "              style=\"display:none;\">\n",
              "        \n",
              "  <svg xmlns=\"http://www.w3.org/2000/svg\" height=\"24px\"viewBox=\"0 0 24 24\"\n",
              "       width=\"24px\">\n",
              "    <path d=\"M0 0h24v24H0V0z\" fill=\"none\"/>\n",
              "    <path d=\"M18.56 5.44l.94 2.06.94-2.06 2.06-.94-2.06-.94-.94-2.06-.94 2.06-2.06.94zm-11 1L8.5 8.5l.94-2.06 2.06-.94-2.06-.94L8.5 2.5l-.94 2.06-2.06.94zm10 10l.94 2.06.94-2.06 2.06-.94-2.06-.94-.94-2.06-.94 2.06-2.06.94z\"/><path d=\"M17.41 7.96l-1.37-1.37c-.4-.4-.92-.59-1.43-.59-.52 0-1.04.2-1.43.59L10.3 9.45l-7.72 7.72c-.78.78-.78 2.05 0 2.83L4 21.41c.39.39.9.59 1.41.59.51 0 1.02-.2 1.41-.59l7.78-7.78 2.81-2.81c.8-.78.8-2.07 0-2.86zM5.41 20L4 18.59l7.72-7.72 1.47 1.35L5.41 20z\"/>\n",
              "  </svg>\n",
              "      </button>\n",
              "      \n",
              "  <style>\n",
              "    .colab-df-container {\n",
              "      display:flex;\n",
              "      flex-wrap:wrap;\n",
              "      gap: 12px;\n",
              "    }\n",
              "\n",
              "    .colab-df-convert {\n",
              "      background-color: #E8F0FE;\n",
              "      border: none;\n",
              "      border-radius: 50%;\n",
              "      cursor: pointer;\n",
              "      display: none;\n",
              "      fill: #1967D2;\n",
              "      height: 32px;\n",
              "      padding: 0 0 0 0;\n",
              "      width: 32px;\n",
              "    }\n",
              "\n",
              "    .colab-df-convert:hover {\n",
              "      background-color: #E2EBFA;\n",
              "      box-shadow: 0px 1px 2px rgba(60, 64, 67, 0.3), 0px 1px 3px 1px rgba(60, 64, 67, 0.15);\n",
              "      fill: #174EA6;\n",
              "    }\n",
              "\n",
              "    [theme=dark] .colab-df-convert {\n",
              "      background-color: #3B4455;\n",
              "      fill: #D2E3FC;\n",
              "    }\n",
              "\n",
              "    [theme=dark] .colab-df-convert:hover {\n",
              "      background-color: #434B5C;\n",
              "      box-shadow: 0px 1px 3px 1px rgba(0, 0, 0, 0.15);\n",
              "      filter: drop-shadow(0px 1px 2px rgba(0, 0, 0, 0.3));\n",
              "      fill: #FFFFFF;\n",
              "    }\n",
              "  </style>\n",
              "\n",
              "      <script>\n",
              "        const buttonEl =\n",
              "          document.querySelector('#df-be32346d-2c3c-441b-96ad-02480bc44eba button.colab-df-convert');\n",
              "        buttonEl.style.display =\n",
              "          google.colab.kernel.accessAllowed ? 'block' : 'none';\n",
              "\n",
              "        async function convertToInteractive(key) {\n",
              "          const element = document.querySelector('#df-be32346d-2c3c-441b-96ad-02480bc44eba');\n",
              "          const dataTable =\n",
              "            await google.colab.kernel.invokeFunction('convertToInteractive',\n",
              "                                                     [key], {});\n",
              "          if (!dataTable) return;\n",
              "\n",
              "          const docLinkHtml = 'Like what you see? Visit the ' +\n",
              "            '<a target=\"_blank\" href=https://colab.research.google.com/notebooks/data_table.ipynb>data table notebook</a>'\n",
              "            + ' to learn more about interactive tables.';\n",
              "          element.innerHTML = '';\n",
              "          dataTable['output_type'] = 'display_data';\n",
              "          await google.colab.output.renderOutput(dataTable, element);\n",
              "          const docLink = document.createElement('div');\n",
              "          docLink.innerHTML = docLinkHtml;\n",
              "          element.appendChild(docLink);\n",
              "        }\n",
              "      </script>\n",
              "    </div>\n",
              "  </div>\n",
              "  "
            ]
          },
          "metadata": {},
          "execution_count": 34
        }
      ]
    },
    {
      "cell_type": "code",
      "source": [
        "corr_matrix = new_data.corr()\n",
        "corr_matrix"
      ],
      "metadata": {
        "colab": {
          "base_uri": "https://localhost:8080/",
          "height": 206
        },
        "id": "eRZi3HB2eN0O",
        "outputId": "65fad28e-0a71-41f8-de07-547862450ee9"
      },
      "execution_count": 35,
      "outputs": [
        {
          "output_type": "execute_result",
          "data": {
            "text/plain": [
              "                       Delivery_Rating_Count  Dining_Rating  \\\n",
              "Delivery_Rating_Count               1.000000       0.220305   \n",
              "Dining_Rating                       0.220305       1.000000   \n",
              "Dining_Review_Count                 0.158546       0.493124   \n",
              "Delivery_Rating                     0.099471       0.291116   \n",
              "Pricing_for_2                      -0.056025       0.380604   \n",
              "\n",
              "                       Dining_Review_Count  Delivery_Rating  Pricing_for_2  \n",
              "Delivery_Rating_Count             0.158546         0.099471      -0.056025  \n",
              "Dining_Rating                     0.493124         0.291116       0.380604  \n",
              "Dining_Review_Count               1.000000         0.133943       0.338605  \n",
              "Delivery_Rating                   0.133943         1.000000       0.049941  \n",
              "Pricing_for_2                     0.338605         0.049941       1.000000  "
            ],
            "text/html": [
              "\n",
              "  <div id=\"df-de7dec98-dc80-43fa-bbc0-562d29f3e373\">\n",
              "    <div class=\"colab-df-container\">\n",
              "      <div>\n",
              "<style scoped>\n",
              "    .dataframe tbody tr th:only-of-type {\n",
              "        vertical-align: middle;\n",
              "    }\n",
              "\n",
              "    .dataframe tbody tr th {\n",
              "        vertical-align: top;\n",
              "    }\n",
              "\n",
              "    .dataframe thead th {\n",
              "        text-align: right;\n",
              "    }\n",
              "</style>\n",
              "<table border=\"1\" class=\"dataframe\">\n",
              "  <thead>\n",
              "    <tr style=\"text-align: right;\">\n",
              "      <th></th>\n",
              "      <th>Delivery_Rating_Count</th>\n",
              "      <th>Dining_Rating</th>\n",
              "      <th>Dining_Review_Count</th>\n",
              "      <th>Delivery_Rating</th>\n",
              "      <th>Pricing_for_2</th>\n",
              "    </tr>\n",
              "  </thead>\n",
              "  <tbody>\n",
              "    <tr>\n",
              "      <th>Delivery_Rating_Count</th>\n",
              "      <td>1.000000</td>\n",
              "      <td>0.220305</td>\n",
              "      <td>0.158546</td>\n",
              "      <td>0.099471</td>\n",
              "      <td>-0.056025</td>\n",
              "    </tr>\n",
              "    <tr>\n",
              "      <th>Dining_Rating</th>\n",
              "      <td>0.220305</td>\n",
              "      <td>1.000000</td>\n",
              "      <td>0.493124</td>\n",
              "      <td>0.291116</td>\n",
              "      <td>0.380604</td>\n",
              "    </tr>\n",
              "    <tr>\n",
              "      <th>Dining_Review_Count</th>\n",
              "      <td>0.158546</td>\n",
              "      <td>0.493124</td>\n",
              "      <td>1.000000</td>\n",
              "      <td>0.133943</td>\n",
              "      <td>0.338605</td>\n",
              "    </tr>\n",
              "    <tr>\n",
              "      <th>Delivery_Rating</th>\n",
              "      <td>0.099471</td>\n",
              "      <td>0.291116</td>\n",
              "      <td>0.133943</td>\n",
              "      <td>1.000000</td>\n",
              "      <td>0.049941</td>\n",
              "    </tr>\n",
              "    <tr>\n",
              "      <th>Pricing_for_2</th>\n",
              "      <td>-0.056025</td>\n",
              "      <td>0.380604</td>\n",
              "      <td>0.338605</td>\n",
              "      <td>0.049941</td>\n",
              "      <td>1.000000</td>\n",
              "    </tr>\n",
              "  </tbody>\n",
              "</table>\n",
              "</div>\n",
              "      <button class=\"colab-df-convert\" onclick=\"convertToInteractive('df-de7dec98-dc80-43fa-bbc0-562d29f3e373')\"\n",
              "              title=\"Convert this dataframe to an interactive table.\"\n",
              "              style=\"display:none;\">\n",
              "        \n",
              "  <svg xmlns=\"http://www.w3.org/2000/svg\" height=\"24px\"viewBox=\"0 0 24 24\"\n",
              "       width=\"24px\">\n",
              "    <path d=\"M0 0h24v24H0V0z\" fill=\"none\"/>\n",
              "    <path d=\"M18.56 5.44l.94 2.06.94-2.06 2.06-.94-2.06-.94-.94-2.06-.94 2.06-2.06.94zm-11 1L8.5 8.5l.94-2.06 2.06-.94-2.06-.94L8.5 2.5l-.94 2.06-2.06.94zm10 10l.94 2.06.94-2.06 2.06-.94-2.06-.94-.94-2.06-.94 2.06-2.06.94z\"/><path d=\"M17.41 7.96l-1.37-1.37c-.4-.4-.92-.59-1.43-.59-.52 0-1.04.2-1.43.59L10.3 9.45l-7.72 7.72c-.78.78-.78 2.05 0 2.83L4 21.41c.39.39.9.59 1.41.59.51 0 1.02-.2 1.41-.59l7.78-7.78 2.81-2.81c.8-.78.8-2.07 0-2.86zM5.41 20L4 18.59l7.72-7.72 1.47 1.35L5.41 20z\"/>\n",
              "  </svg>\n",
              "      </button>\n",
              "      \n",
              "  <style>\n",
              "    .colab-df-container {\n",
              "      display:flex;\n",
              "      flex-wrap:wrap;\n",
              "      gap: 12px;\n",
              "    }\n",
              "\n",
              "    .colab-df-convert {\n",
              "      background-color: #E8F0FE;\n",
              "      border: none;\n",
              "      border-radius: 50%;\n",
              "      cursor: pointer;\n",
              "      display: none;\n",
              "      fill: #1967D2;\n",
              "      height: 32px;\n",
              "      padding: 0 0 0 0;\n",
              "      width: 32px;\n",
              "    }\n",
              "\n",
              "    .colab-df-convert:hover {\n",
              "      background-color: #E2EBFA;\n",
              "      box-shadow: 0px 1px 2px rgba(60, 64, 67, 0.3), 0px 1px 3px 1px rgba(60, 64, 67, 0.15);\n",
              "      fill: #174EA6;\n",
              "    }\n",
              "\n",
              "    [theme=dark] .colab-df-convert {\n",
              "      background-color: #3B4455;\n",
              "      fill: #D2E3FC;\n",
              "    }\n",
              "\n",
              "    [theme=dark] .colab-df-convert:hover {\n",
              "      background-color: #434B5C;\n",
              "      box-shadow: 0px 1px 3px 1px rgba(0, 0, 0, 0.15);\n",
              "      filter: drop-shadow(0px 1px 2px rgba(0, 0, 0, 0.3));\n",
              "      fill: #FFFFFF;\n",
              "    }\n",
              "  </style>\n",
              "\n",
              "      <script>\n",
              "        const buttonEl =\n",
              "          document.querySelector('#df-de7dec98-dc80-43fa-bbc0-562d29f3e373 button.colab-df-convert');\n",
              "        buttonEl.style.display =\n",
              "          google.colab.kernel.accessAllowed ? 'block' : 'none';\n",
              "\n",
              "        async function convertToInteractive(key) {\n",
              "          const element = document.querySelector('#df-de7dec98-dc80-43fa-bbc0-562d29f3e373');\n",
              "          const dataTable =\n",
              "            await google.colab.kernel.invokeFunction('convertToInteractive',\n",
              "                                                     [key], {});\n",
              "          if (!dataTable) return;\n",
              "\n",
              "          const docLinkHtml = 'Like what you see? Visit the ' +\n",
              "            '<a target=\"_blank\" href=https://colab.research.google.com/notebooks/data_table.ipynb>data table notebook</a>'\n",
              "            + ' to learn more about interactive tables.';\n",
              "          element.innerHTML = '';\n",
              "          dataTable['output_type'] = 'display_data';\n",
              "          await google.colab.output.renderOutput(dataTable, element);\n",
              "          const docLink = document.createElement('div');\n",
              "          docLink.innerHTML = docLinkHtml;\n",
              "          element.appendChild(docLink);\n",
              "        }\n",
              "      </script>\n",
              "    </div>\n",
              "  </div>\n",
              "  "
            ]
          },
          "metadata": {},
          "execution_count": 35
        }
      ]
    },
    {
      "cell_type": "code",
      "source": [
        "corr_matrix['Pricing_for_2']"
      ],
      "metadata": {
        "colab": {
          "base_uri": "https://localhost:8080/"
        },
        "id": "bVLXZuBGfoOg",
        "outputId": "811cdb09-9ea2-4017-c124-2c4ff7f60113"
      },
      "execution_count": 36,
      "outputs": [
        {
          "output_type": "execute_result",
          "data": {
            "text/plain": [
              "Delivery_Rating_Count   -0.056025\n",
              "Dining_Rating            0.380604\n",
              "Dining_Review_Count      0.338605\n",
              "Delivery_Rating          0.049941\n",
              "Pricing_for_2            1.000000\n",
              "Name: Pricing_for_2, dtype: float64"
            ]
          },
          "metadata": {},
          "execution_count": 36
        }
      ]
    },
    {
      "cell_type": "code",
      "source": [
        "x = new_data.iloc[:,:-1].values\n",
        "y = new_data.iloc[:,-1].values\n",
        "x"
      ],
      "metadata": {
        "colab": {
          "base_uri": "https://localhost:8080/"
        },
        "id": "8Mm7M-i_fuD1",
        "outputId": "195c7aa0-2e09-40df-d900-a1f4a8bf6e2e"
      },
      "execution_count": 37,
      "outputs": [
        {
          "output_type": "execute_result",
          "data": {
            "text/plain": [
              "array([[8.380e+02, 4.900e+00, 2.790e+03, 4.500e+00],\n",
              "       [5.240e+02, 4.900e+00, 6.543e+03, 4.200e+00],\n",
              "       [2.210e+04, 4.900e+00, 4.837e+03, 4.300e+00],\n",
              "       ...,\n",
              "       [3.590e+02, 3.000e+00, 7.000e+00, 3.900e+00],\n",
              "       [4.910e+02, 3.000e+00, 2.000e+01, 4.100e+00],\n",
              "       [8.000e+00, 3.000e+00, 1.300e+02,       nan]])"
            ]
          },
          "metadata": {},
          "execution_count": 37
        }
      ]
    },
    {
      "cell_type": "code",
      "source": [
        "y"
      ],
      "metadata": {
        "colab": {
          "base_uri": "https://localhost:8080/"
        },
        "id": "qlEC1UXTf_6t",
        "outputId": "3bd13fe1-dead-40e3-b25c-ddccd8e893fa"
      },
      "execution_count": 38,
      "outputs": [
        {
          "output_type": "execute_result",
          "data": {
            "text/plain": [
              "array([1500, 2500,  150, ...,  400, 1000,  850])"
            ]
          },
          "metadata": {},
          "execution_count": 38
        }
      ]
    },
    {
      "cell_type": "code",
      "source": [
        "pip install sklearn"
      ],
      "metadata": {
        "colab": {
          "base_uri": "https://localhost:8080/"
        },
        "id": "FsOfCyUMgCRl",
        "outputId": "66959706-c190-40ef-f946-8bf978f6f7e4"
      },
      "execution_count": null,
      "outputs": [
        {
          "output_type": "stream",
          "name": "stdout",
          "text": [
            "Looking in indexes: https://pypi.org/simple, https://us-python.pkg.dev/colab-wheels/public/simple/\n",
            "Collecting sklearn\n",
            "  Downloading sklearn-0.0.post5.tar.gz (3.7 kB)\n",
            "  Preparing metadata (setup.py) ... \u001b[?25l\u001b[?25hdone\n",
            "Building wheels for collected packages: sklearn\n",
            "  Building wheel for sklearn (setup.py) ... \u001b[?25l\u001b[?25hdone\n",
            "  Created wheel for sklearn: filename=sklearn-0.0.post5-py3-none-any.whl size=2950 sha256=181b1d9aacc26d913c104e66099c1f6ea769314436c9916c3d3a59b553af45c7\n",
            "  Stored in directory: /root/.cache/pip/wheels/38/1f/8d/4f812c590e074c1e928f5cec67bf5053b71f38e2648739403a\n",
            "Successfully built sklearn\n",
            "Installing collected packages: sklearn\n",
            "Successfully installed sklearn-0.0.post5\n"
          ]
        }
      ]
    },
    {
      "cell_type": "code",
      "source": [
        "from sklearn.model_selection import train_test_split\n",
        "x_train, y_train, x_test, y_test = train_test_split(x,y,test_size=0.3,random_state=42)"
      ],
      "metadata": {
        "id": "nKL-CS0ogJA1"
      },
      "execution_count": 39,
      "outputs": []
    },
    {
      "cell_type": "code",
      "source": [
        "from sklearn.linear_model import LinearRegression\n",
        "model = LinearRegression()"
      ],
      "metadata": {
        "id": "OqhsAPDbgm7M"
      },
      "execution_count": 40,
      "outputs": []
    },
    {
      "cell_type": "code",
      "source": [
        "new_frame = pd.DataFrame(new_data)\n",
        "new_frame"
      ],
      "metadata": {
        "colab": {
          "base_uri": "https://localhost:8080/",
          "height": 423
        },
        "id": "WIIPoniIhCx0",
        "outputId": "0d064b33-0552-47f5-d8b0-ac6e4469ced6"
      },
      "execution_count": 41,
      "outputs": [
        {
          "output_type": "execute_result",
          "data": {
            "text/plain": [
              "      Delivery_Rating_Count  Dining_Rating  Dining_Review_Count  \\\n",
              "0                     838.0            4.9               2790.0   \n",
              "1                     524.0            4.9               6543.0   \n",
              "2                   22100.0            4.9               4837.0   \n",
              "3                     372.0            4.9               2975.0   \n",
              "4                    1180.0            4.9               2575.0   \n",
              "...                     ...            ...                  ...   \n",
              "4792                    0.0            3.0                 45.0   \n",
              "4793                 1212.0            3.0                 63.0   \n",
              "4794                  359.0            3.0                  7.0   \n",
              "4795                  491.0            3.0                 20.0   \n",
              "4796                    8.0            3.0                130.0   \n",
              "\n",
              "      Delivery_Rating  Pricing_for_2  \n",
              "0                 4.5           1500  \n",
              "1                 4.2           2500  \n",
              "2                 4.3            150  \n",
              "3                 4.4            100  \n",
              "4                 4.4            400  \n",
              "...               ...            ...  \n",
              "4792              NaN            600  \n",
              "4793              4.1            400  \n",
              "4794              3.9            400  \n",
              "4795              4.1           1000  \n",
              "4796              NaN            850  \n",
              "\n",
              "[9906 rows x 5 columns]"
            ],
            "text/html": [
              "\n",
              "  <div id=\"df-878452de-51ca-4c4e-acb0-b1b67d9f6336\">\n",
              "    <div class=\"colab-df-container\">\n",
              "      <div>\n",
              "<style scoped>\n",
              "    .dataframe tbody tr th:only-of-type {\n",
              "        vertical-align: middle;\n",
              "    }\n",
              "\n",
              "    .dataframe tbody tr th {\n",
              "        vertical-align: top;\n",
              "    }\n",
              "\n",
              "    .dataframe thead th {\n",
              "        text-align: right;\n",
              "    }\n",
              "</style>\n",
              "<table border=\"1\" class=\"dataframe\">\n",
              "  <thead>\n",
              "    <tr style=\"text-align: right;\">\n",
              "      <th></th>\n",
              "      <th>Delivery_Rating_Count</th>\n",
              "      <th>Dining_Rating</th>\n",
              "      <th>Dining_Review_Count</th>\n",
              "      <th>Delivery_Rating</th>\n",
              "      <th>Pricing_for_2</th>\n",
              "    </tr>\n",
              "  </thead>\n",
              "  <tbody>\n",
              "    <tr>\n",
              "      <th>0</th>\n",
              "      <td>838.0</td>\n",
              "      <td>4.9</td>\n",
              "      <td>2790.0</td>\n",
              "      <td>4.5</td>\n",
              "      <td>1500</td>\n",
              "    </tr>\n",
              "    <tr>\n",
              "      <th>1</th>\n",
              "      <td>524.0</td>\n",
              "      <td>4.9</td>\n",
              "      <td>6543.0</td>\n",
              "      <td>4.2</td>\n",
              "      <td>2500</td>\n",
              "    </tr>\n",
              "    <tr>\n",
              "      <th>2</th>\n",
              "      <td>22100.0</td>\n",
              "      <td>4.9</td>\n",
              "      <td>4837.0</td>\n",
              "      <td>4.3</td>\n",
              "      <td>150</td>\n",
              "    </tr>\n",
              "    <tr>\n",
              "      <th>3</th>\n",
              "      <td>372.0</td>\n",
              "      <td>4.9</td>\n",
              "      <td>2975.0</td>\n",
              "      <td>4.4</td>\n",
              "      <td>100</td>\n",
              "    </tr>\n",
              "    <tr>\n",
              "      <th>4</th>\n",
              "      <td>1180.0</td>\n",
              "      <td>4.9</td>\n",
              "      <td>2575.0</td>\n",
              "      <td>4.4</td>\n",
              "      <td>400</td>\n",
              "    </tr>\n",
              "    <tr>\n",
              "      <th>...</th>\n",
              "      <td>...</td>\n",
              "      <td>...</td>\n",
              "      <td>...</td>\n",
              "      <td>...</td>\n",
              "      <td>...</td>\n",
              "    </tr>\n",
              "    <tr>\n",
              "      <th>4792</th>\n",
              "      <td>0.0</td>\n",
              "      <td>3.0</td>\n",
              "      <td>45.0</td>\n",
              "      <td>NaN</td>\n",
              "      <td>600</td>\n",
              "    </tr>\n",
              "    <tr>\n",
              "      <th>4793</th>\n",
              "      <td>1212.0</td>\n",
              "      <td>3.0</td>\n",
              "      <td>63.0</td>\n",
              "      <td>4.1</td>\n",
              "      <td>400</td>\n",
              "    </tr>\n",
              "    <tr>\n",
              "      <th>4794</th>\n",
              "      <td>359.0</td>\n",
              "      <td>3.0</td>\n",
              "      <td>7.0</td>\n",
              "      <td>3.9</td>\n",
              "      <td>400</td>\n",
              "    </tr>\n",
              "    <tr>\n",
              "      <th>4795</th>\n",
              "      <td>491.0</td>\n",
              "      <td>3.0</td>\n",
              "      <td>20.0</td>\n",
              "      <td>4.1</td>\n",
              "      <td>1000</td>\n",
              "    </tr>\n",
              "    <tr>\n",
              "      <th>4796</th>\n",
              "      <td>8.0</td>\n",
              "      <td>3.0</td>\n",
              "      <td>130.0</td>\n",
              "      <td>NaN</td>\n",
              "      <td>850</td>\n",
              "    </tr>\n",
              "  </tbody>\n",
              "</table>\n",
              "<p>9906 rows × 5 columns</p>\n",
              "</div>\n",
              "      <button class=\"colab-df-convert\" onclick=\"convertToInteractive('df-878452de-51ca-4c4e-acb0-b1b67d9f6336')\"\n",
              "              title=\"Convert this dataframe to an interactive table.\"\n",
              "              style=\"display:none;\">\n",
              "        \n",
              "  <svg xmlns=\"http://www.w3.org/2000/svg\" height=\"24px\"viewBox=\"0 0 24 24\"\n",
              "       width=\"24px\">\n",
              "    <path d=\"M0 0h24v24H0V0z\" fill=\"none\"/>\n",
              "    <path d=\"M18.56 5.44l.94 2.06.94-2.06 2.06-.94-2.06-.94-.94-2.06-.94 2.06-2.06.94zm-11 1L8.5 8.5l.94-2.06 2.06-.94-2.06-.94L8.5 2.5l-.94 2.06-2.06.94zm10 10l.94 2.06.94-2.06 2.06-.94-2.06-.94-.94-2.06-.94 2.06-2.06.94z\"/><path d=\"M17.41 7.96l-1.37-1.37c-.4-.4-.92-.59-1.43-.59-.52 0-1.04.2-1.43.59L10.3 9.45l-7.72 7.72c-.78.78-.78 2.05 0 2.83L4 21.41c.39.39.9.59 1.41.59.51 0 1.02-.2 1.41-.59l7.78-7.78 2.81-2.81c.8-.78.8-2.07 0-2.86zM5.41 20L4 18.59l7.72-7.72 1.47 1.35L5.41 20z\"/>\n",
              "  </svg>\n",
              "      </button>\n",
              "      \n",
              "  <style>\n",
              "    .colab-df-container {\n",
              "      display:flex;\n",
              "      flex-wrap:wrap;\n",
              "      gap: 12px;\n",
              "    }\n",
              "\n",
              "    .colab-df-convert {\n",
              "      background-color: #E8F0FE;\n",
              "      border: none;\n",
              "      border-radius: 50%;\n",
              "      cursor: pointer;\n",
              "      display: none;\n",
              "      fill: #1967D2;\n",
              "      height: 32px;\n",
              "      padding: 0 0 0 0;\n",
              "      width: 32px;\n",
              "    }\n",
              "\n",
              "    .colab-df-convert:hover {\n",
              "      background-color: #E2EBFA;\n",
              "      box-shadow: 0px 1px 2px rgba(60, 64, 67, 0.3), 0px 1px 3px 1px rgba(60, 64, 67, 0.15);\n",
              "      fill: #174EA6;\n",
              "    }\n",
              "\n",
              "    [theme=dark] .colab-df-convert {\n",
              "      background-color: #3B4455;\n",
              "      fill: #D2E3FC;\n",
              "    }\n",
              "\n",
              "    [theme=dark] .colab-df-convert:hover {\n",
              "      background-color: #434B5C;\n",
              "      box-shadow: 0px 1px 3px 1px rgba(0, 0, 0, 0.15);\n",
              "      filter: drop-shadow(0px 1px 2px rgba(0, 0, 0, 0.3));\n",
              "      fill: #FFFFFF;\n",
              "    }\n",
              "  </style>\n",
              "\n",
              "      <script>\n",
              "        const buttonEl =\n",
              "          document.querySelector('#df-878452de-51ca-4c4e-acb0-b1b67d9f6336 button.colab-df-convert');\n",
              "        buttonEl.style.display =\n",
              "          google.colab.kernel.accessAllowed ? 'block' : 'none';\n",
              "\n",
              "        async function convertToInteractive(key) {\n",
              "          const element = document.querySelector('#df-878452de-51ca-4c4e-acb0-b1b67d9f6336');\n",
              "          const dataTable =\n",
              "            await google.colab.kernel.invokeFunction('convertToInteractive',\n",
              "                                                     [key], {});\n",
              "          if (!dataTable) return;\n",
              "\n",
              "          const docLinkHtml = 'Like what you see? Visit the ' +\n",
              "            '<a target=\"_blank\" href=https://colab.research.google.com/notebooks/data_table.ipynb>data table notebook</a>'\n",
              "            + ' to learn more about interactive tables.';\n",
              "          element.innerHTML = '';\n",
              "          dataTable['output_type'] = 'display_data';\n",
              "          await google.colab.output.renderOutput(dataTable, element);\n",
              "          const docLink = document.createElement('div');\n",
              "          docLink.innerHTML = docLinkHtml;\n",
              "          element.appendChild(docLink);\n",
              "        }\n",
              "      </script>\n",
              "    </div>\n",
              "  </div>\n",
              "  "
            ]
          },
          "metadata": {},
          "execution_count": 41
        }
      ]
    },
    {
      "cell_type": "code",
      "source": [
        "from pandas.core.groupby.grouper import Categorical\n",
        "from sklearn.preprocessing import OneHotEncoder\n",
        "from sklearn.compose import ColumnTransformer\n",
        "Categorical_features = ['Delivery_Rating_Count','Dining_Rating','Dining_Review_Count','Delivery_Rating']\n",
        "one_hot = OneHotEncoder()\n",
        "transformed = ColumnTransformer([(\"one_hot\",one_hot,Categorical_features)],remainder = \"passthrough\")\n",
        "transformed_x = transformed.fit_transform(new_frame)\n",
        "pd.DataFrame(transformed_x)\n",
        "transformed_x"
      ],
      "metadata": {
        "colab": {
          "base_uri": "https://localhost:8080/"
        },
        "id": "BdhFkJuUiQ3D",
        "outputId": "14ad9134-7a0d-4c80-f2f3-0552a8bd0b24"
      },
      "execution_count": 42,
      "outputs": [
        {
          "output_type": "execute_result",
          "data": {
            "text/plain": [
              "<9906x3922 sparse matrix of type '<class 'numpy.float64'>'\n",
              "\twith 49530 stored elements in Compressed Sparse Row format>"
            ]
          },
          "metadata": {},
          "execution_count": 42
        }
      ]
    },
    {
      "cell_type": "code",
      "source": [
        "np.random.seed(42)\n",
        "x_train, x_test, y_train, y_test = train_test_split(transformed_x,y,test_size=0.3)\n",
        "model.fit(transformed_x,y)"
      ],
      "metadata": {
        "colab": {
          "base_uri": "https://localhost:8080/",
          "height": 74
        },
        "id": "t6jaaXWuj9f-",
        "outputId": "e95f4153-e49e-47a7-d2e1-b0d8e4364b2d"
      },
      "execution_count": 43,
      "outputs": [
        {
          "output_type": "execute_result",
          "data": {
            "text/plain": [
              "LinearRegression()"
            ],
            "text/html": [
              "<style>#sk-container-id-1 {color: black;background-color: white;}#sk-container-id-1 pre{padding: 0;}#sk-container-id-1 div.sk-toggleable {background-color: white;}#sk-container-id-1 label.sk-toggleable__label {cursor: pointer;display: block;width: 100%;margin-bottom: 0;padding: 0.3em;box-sizing: border-box;text-align: center;}#sk-container-id-1 label.sk-toggleable__label-arrow:before {content: \"▸\";float: left;margin-right: 0.25em;color: #696969;}#sk-container-id-1 label.sk-toggleable__label-arrow:hover:before {color: black;}#sk-container-id-1 div.sk-estimator:hover label.sk-toggleable__label-arrow:before {color: black;}#sk-container-id-1 div.sk-toggleable__content {max-height: 0;max-width: 0;overflow: hidden;text-align: left;background-color: #f0f8ff;}#sk-container-id-1 div.sk-toggleable__content pre {margin: 0.2em;color: black;border-radius: 0.25em;background-color: #f0f8ff;}#sk-container-id-1 input.sk-toggleable__control:checked~div.sk-toggleable__content {max-height: 200px;max-width: 100%;overflow: auto;}#sk-container-id-1 input.sk-toggleable__control:checked~label.sk-toggleable__label-arrow:before {content: \"▾\";}#sk-container-id-1 div.sk-estimator input.sk-toggleable__control:checked~label.sk-toggleable__label {background-color: #d4ebff;}#sk-container-id-1 div.sk-label input.sk-toggleable__control:checked~label.sk-toggleable__label {background-color: #d4ebff;}#sk-container-id-1 input.sk-hidden--visually {border: 0;clip: rect(1px 1px 1px 1px);clip: rect(1px, 1px, 1px, 1px);height: 1px;margin: -1px;overflow: hidden;padding: 0;position: absolute;width: 1px;}#sk-container-id-1 div.sk-estimator {font-family: monospace;background-color: #f0f8ff;border: 1px dotted black;border-radius: 0.25em;box-sizing: border-box;margin-bottom: 0.5em;}#sk-container-id-1 div.sk-estimator:hover {background-color: #d4ebff;}#sk-container-id-1 div.sk-parallel-item::after {content: \"\";width: 100%;border-bottom: 1px solid gray;flex-grow: 1;}#sk-container-id-1 div.sk-label:hover label.sk-toggleable__label {background-color: #d4ebff;}#sk-container-id-1 div.sk-serial::before {content: \"\";position: absolute;border-left: 1px solid gray;box-sizing: border-box;top: 0;bottom: 0;left: 50%;z-index: 0;}#sk-container-id-1 div.sk-serial {display: flex;flex-direction: column;align-items: center;background-color: white;padding-right: 0.2em;padding-left: 0.2em;position: relative;}#sk-container-id-1 div.sk-item {position: relative;z-index: 1;}#sk-container-id-1 div.sk-parallel {display: flex;align-items: stretch;justify-content: center;background-color: white;position: relative;}#sk-container-id-1 div.sk-item::before, #sk-container-id-1 div.sk-parallel-item::before {content: \"\";position: absolute;border-left: 1px solid gray;box-sizing: border-box;top: 0;bottom: 0;left: 50%;z-index: -1;}#sk-container-id-1 div.sk-parallel-item {display: flex;flex-direction: column;z-index: 1;position: relative;background-color: white;}#sk-container-id-1 div.sk-parallel-item:first-child::after {align-self: flex-end;width: 50%;}#sk-container-id-1 div.sk-parallel-item:last-child::after {align-self: flex-start;width: 50%;}#sk-container-id-1 div.sk-parallel-item:only-child::after {width: 0;}#sk-container-id-1 div.sk-dashed-wrapped {border: 1px dashed gray;margin: 0 0.4em 0.5em 0.4em;box-sizing: border-box;padding-bottom: 0.4em;background-color: white;}#sk-container-id-1 div.sk-label label {font-family: monospace;font-weight: bold;display: inline-block;line-height: 1.2em;}#sk-container-id-1 div.sk-label-container {text-align: center;}#sk-container-id-1 div.sk-container {/* jupyter's `normalize.less` sets `[hidden] { display: none; }` but bootstrap.min.css set `[hidden] { display: none !important; }` so we also need the `!important` here to be able to override the default hidden behavior on the sphinx rendered scikit-learn.org. See: https://github.com/scikit-learn/scikit-learn/issues/21755 */display: inline-block !important;position: relative;}#sk-container-id-1 div.sk-text-repr-fallback {display: none;}</style><div id=\"sk-container-id-1\" class=\"sk-top-container\"><div class=\"sk-text-repr-fallback\"><pre>LinearRegression()</pre><b>In a Jupyter environment, please rerun this cell to show the HTML representation or trust the notebook. <br />On GitHub, the HTML representation is unable to render, please try loading this page with nbviewer.org.</b></div><div class=\"sk-container\" hidden><div class=\"sk-item\"><div class=\"sk-estimator sk-toggleable\"><input class=\"sk-toggleable__control sk-hidden--visually\" id=\"sk-estimator-id-1\" type=\"checkbox\" checked><label for=\"sk-estimator-id-1\" class=\"sk-toggleable__label sk-toggleable__label-arrow\">LinearRegression</label><div class=\"sk-toggleable__content\"><pre>LinearRegression()</pre></div></div></div></div></div>"
            ]
          },
          "metadata": {},
          "execution_count": 43
        }
      ]
    },
    {
      "cell_type": "code",
      "source": [
        "model.score(x_test,y_test)"
      ],
      "metadata": {
        "colab": {
          "base_uri": "https://localhost:8080/"
        },
        "id": "_5opR95VlEs2",
        "outputId": "93db24ff-47ab-4938-980a-0a3aafd1e56c"
      },
      "execution_count": 48,
      "outputs": [
        {
          "output_type": "execute_result",
          "data": {
            "text/plain": [
              "0.9999999999999576"
            ]
          },
          "metadata": {},
          "execution_count": 48
        }
      ]
    },
    {
      "cell_type": "code",
      "source": [
        "y_pre = model.predict(x_train)\n",
        "y_pre"
      ],
      "metadata": {
        "colab": {
          "base_uri": "https://localhost:8080/"
        },
        "id": "Z3_JPrwhz8l9",
        "outputId": "98faac39-af7e-41a3-a8c5-c74ed554a4f9"
      },
      "execution_count": 47,
      "outputs": [
        {
          "output_type": "execute_result",
          "data": {
            "text/plain": [
              "array([ 249.99994367,  299.99993503,  299.99992322, ..., 1000.00015471,\n",
              "        600.00002959,  499.99993437])"
            ]
          },
          "metadata": {},
          "execution_count": 47
        }
      ]
    },
    {
      "cell_type": "code",
      "source": [
        "y_pred = model.predict(x_test)\n",
        "y_pred"
      ],
      "metadata": {
        "colab": {
          "base_uri": "https://localhost:8080/"
        },
        "id": "0_-f-wudlMhq",
        "outputId": "77d185f5-046c-4986-ad4e-6cfef95acc2f"
      },
      "execution_count": 46,
      "outputs": [
        {
          "output_type": "execute_result",
          "data": {
            "text/plain": [
              "array([ 399.99991889,  699.99994932, 1199.99988805, ...,   99.99996261,\n",
              "        700.00004472,  249.99994032])"
            ]
          },
          "metadata": {},
          "execution_count": 46
        }
      ]
    },
    {
      "cell_type": "markdown",
      "source": [
        "These are the predicting values of **Pricing for 2** people , which is predicted by using the **Linear Regression** Algorithm , by using ***delivery rating*** , ***delivery rating count*** , ***dining rating*** and ***dining review count*** for the given data set."
      ],
      "metadata": {
        "id": "reyovfC60H1J"
      }
    }
  ]
}